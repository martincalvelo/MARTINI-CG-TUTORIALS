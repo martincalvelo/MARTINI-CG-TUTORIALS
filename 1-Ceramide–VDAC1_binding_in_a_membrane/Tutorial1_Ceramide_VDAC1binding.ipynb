{
  "cells": [
    {
      "cell_type": "markdown",
      "metadata": {
        "id": "view-in-github",
        "colab_type": "text"
      },
      "source": [
        "<a href=\"https://colab.research.google.com/github/martincalvelo/MARTINI-CG-TUTORIALS/blob/main/1-Ceramide%E2%80%93VDAC1_binding_in_a_membrane/Tutorial1_Ceramide_VDAC1binding.ipynb\" target=\"_parent\"><img src=\"https://colab.research.google.com/assets/colab-badge.svg\" alt=\"Open In Colab\"/></a>"
      ]
    },
    {
      "cell_type": "markdown",
      "metadata": {
        "id": "DJeXV8L73ajD"
      },
      "source": [
        "## Ceramide — VDAC1 binding in a membrane\n",
        "\n",
        "\n",
        "---\n",
        "\n"
      ]
    },
    {
      "cell_type": "markdown",
      "metadata": {
        "id": "td1Gqim4xbJf"
      },
      "source": [
        "### *Tutorial notes*\n",
        "\n",
        "* In this tutorial you'll find two directories. Directory `worked` has all the intermediate steps and results, whereas directory `minimal` has only the essential files to get you going, and you'll have to do most of the work yourself. Feel free to follow the tutorial using either approach, or even a mix of the two.\n",
        "\n",
        "* This tutorial has been designed to be run in a T4 GPU Colab runtime (you can check and change this in the upper right 'Connect' menu). Click on \"Change runtime type\" and select Python 3 (default) and T4 GPU.\n",
        "\n",
        "* Alternatively, you can download it and run it in your own system. You will need to have `gromacs` and `dssp` installed, as well as the Python libraries `vermouth`, `mdanalysis`, `insane`, and `nglview`.\n",
        "\n",
        "* Much of the tutorial involves running shell commands. In Colab, this is achieved by prepending an exclamation mark to the command (`!some shell_command`). You can see this exemplified below in the installation. Note that if you need to change directories, the exclamation mark method won't work; you need to use a percent sign, and run the command in its own cell (`%cd target_dir`).\n",
        "\n",
        "* To run any of the following cells of code, you can type **Shift + Enter** to excute the code in a cell.\n"
      ]
    },
    {
      "cell_type": "markdown",
      "metadata": {
        "id": "JmvnpR153NAG"
      },
      "source": [
        "## Step 0 - Downloading and installing of the tutorial software and materials.\n",
        "\n",
        "_The text output of these steps was minimized so as not to overcrowd the notebook. Feel free to take out the `-q` flags or add the `-v` flag to `tar` if you want full output or for debugging purposes._\n",
        "\n",
        "---"
      ]
    },
    {
      "cell_type": "code",
      "execution_count": null,
      "metadata": {
        "id": "vonL7S4i3MJx"
      },
      "outputs": [],
      "source": [
        "# We install `gromacs` and `dssp` binaries, pre-built for the colab runtime. Moreover, we install some Python packages, and import the ones we'll need:\n",
        "# 1. The `vermouth` (provides the `martinize2` script) and `insane` packages from the Martini team\n",
        "# 2. The `MDAnalysis` package\n",
        "# 3. The `nglview` molecular viewer (requires enabling custom notebook widgets, which we also do below)\n",
        "\n",
        "import os\n",
        "if os.getenv(\"COLAB_RELEASE_TAG\"):\n",
        "  !wget https://www.itqb.unl.pt/labs/multiscale-modeling/downloads/gromacs-2023.3-gcolab_build.tar.gz -q -O - | tar --absolute-names -xzf -\n",
        "  !wget https://www.itqb.unl.pt/labs/multiscale-modeling/downloads/dssp-3.1.4-gcolab_build.tar.gz -q -O - | tar --absolute-names -xzf -\n",
        "  !pip install -q vermouth mdanalysis insane\n",
        "  !pip install -q ipywidgets==7.7.2 nglview\n",
        "  # Needed for nglview to work in colab\n",
        "  from google.colab import output\n",
        "  output.enable_custom_widget_manager()"
      ]
    },
    {
      "cell_type": "code",
      "execution_count": null,
      "metadata": {
        "id": "Z1uPHfATMLdo"
      },
      "outputs": [],
      "source": [
        "import nglview as nv\n",
        "import MDAnalysis as mda"
      ]
    },
    {
      "cell_type": "markdown",
      "metadata": {
        "id": "Hq5wgt39N4YV"
      },
      "source": [
        "We download and unpack the tutorial's material."
      ]
    },
    {
      "cell_type": "code",
      "execution_count": null,
      "metadata": {
        "id": "n-sAbFInjqTs"
      },
      "outputs": [],
      "source": [
        "!wget https://zenodo.org/records/13760505/files/1-Tutorial_CER-VDAC1.zip\n",
        "!unzip 1-Tutorial_CER-VDAC1.zip"
      ]
    },
    {
      "cell_type": "markdown",
      "metadata": {
        "id": "cXI2_iO3Mv4b"
      },
      "source": [
        "We will start in subdirectory `minimal`, but feel free to change to `worked`."
      ]
    },
    {
      "cell_type": "code",
      "execution_count": null,
      "metadata": {
        "id": "zFwCjDYWysBB"
      },
      "outputs": [],
      "source": [
        "%cd minimal"
      ]
    },
    {
      "cell_type": "markdown",
      "metadata": {
        "id": "hp99lASgnPv6"
      },
      "source": [
        "## Step 1 - Introduction\n",
        "\n",
        "The role of mitochondria in apoptosis is well established, and a number of protein–protein interactions in its outer membrane has been linked to apoptotic pathways. The VDAC (voltage-dependent anionic channels) family of proteins is central to this binding, having been implicated in the retention of apoptotic proteins in the outer mitochondrial membrane$^{1}$ and self-oligomerization$^{2}$ — an event also linked to apoptosis.\n",
        "\n",
        "In a recent study we have ascertained that ceramide binds VDAC proteins (via a binding site involving VDAC1's Glu73) and that such binding somehow triggers apoptosis.$^{3}$ An immediate hypothesis is that the presence of ceramide affects the binding profile of VDAC and promotes apoptosis-associated oligomerizations.\n",
        "Since that work was done using the (now outdated) Martini 2 model, we will recreate in this tutorial the same ceramide binding simulations, but using the state-of-the-art Martini 3 model.$^{4}$\n",
        "\n",
        "1. Sci. Rep. 6, 32994; doi: 10.1038/srep32994 (2016)\n",
        "\n",
        "1. Mol. Cell. Biol. 30, 5698; doi: 10.1128/MCB.00165-10 (2010)\n",
        "\n",
        "1. Nat. Commun. 10, 1832; doi: 10.1038/s41467-019-09654-4 (2019)\n",
        "\n",
        "1. Nat. Methods 18, 382; doi: 10.1038/s41592-021-01098-3 (2021)"
      ]
    },
    {
      "cell_type": "markdown",
      "metadata": {
        "id": "QJY8CWwKZK1C"
      },
      "source": [
        "## Step 2 - System preparation\n"
      ]
    },
    {
      "cell_type": "markdown",
      "metadata": {
        "id": "FMxpj5nYUFK7"
      },
      "source": [
        "In your directories you'll find the 4c69.pdb file, containing the X-ray structure of the murine VDAC1 protein. As it is a beta-barrel, it should be clear how it orients in a membrane.\n",
        "\n",
        "Before coarse graining anything we visualize our starting protein structure using nglview. Other viewers, such as pymol or VMD are also great, if you run this workflow outside Colab."
      ]
    },
    {
      "cell_type": "code",
      "execution_count": null,
      "metadata": {
        "collapsed": true,
        "id": "P5G3fqWXZMQG"
      },
      "outputs": [],
      "source": [
        "view = nv.NGLWidget()\n",
        "at = view.add_component(nv.FileStructure('4c69.pdb'))\n",
        "view"
      ]
    },
    {
      "cell_type": "markdown",
      "metadata": {
        "id": "0iOQXHvrwH0P"
      },
      "source": [
        "### Coarse-graining with `martinize2`\n",
        "\n",
        "For CG MD simulation of a protein one needs the CG coordinates and the CG topology. Both can be obtained with the `martinize2` tool (despite its name, it works with Martini 3).\n",
        "\n",
        "---\n",
        "\n",
        "Run `martinize2` with the `-h` flag for help deciding how to run it. You'll need to:\n",
        "* specify `4c69.pdb` as the input structure;\n",
        "* specify an output CG structure (let's call it `VDAC1_cg.pdb`);\n",
        "* specify an output `.top` topology master file (let's call it `topol.top`);\n",
        "* specify the target forcefield. Martini 3 has code `martini3001`;\n",
        "* ask for an elastic network to be set, restraining secondary/tertiary structure;\n",
        "* ask for any disulfide bridges to be automatically detected;\n",
        "* specify where `martinize2` can find a DSSP executable, so that secondary structure per residue can be determined (in the current install it is in your path, under the name `mkdssp`);\n",
        "* ask for some non-protein residues that are present in the pdb structure to be ignored (since `4c69.pdb` is being used without any prior cleaning, several extra molecules are present, namely `HOH`, `ATP`, `MC3`, and `LDA`).\n",
        "\n",
        "Additionally, if needed, you can ask `martinize2` to ignore some occurring warnings: you can expect several about multiple conformations in `4c69.pdb`, and one about the version of DSSP being used."
      ]
    },
    {
      "cell_type": "code",
      "execution_count": null,
      "metadata": {
        "id": "GOuDx3X60bEy"
      },
      "outputs": [],
      "source": [
        "#Try yourself!\n",
        "#Uncomment to run\n",
        "\n",
        "#!martinize2 -f ..."
      ]
    },
    {
      "cell_type": "code",
      "execution_count": null,
      "metadata": {
        "cellView": "form",
        "collapsed": true,
        "id": "eEcyPkZmC_kJ"
      },
      "outputs": [],
      "source": [
        "# @title Solution\n",
        "\n",
        "!martinize2 -f 4c69.pdb \\\n",
        " -x VDAC1_cg.pdb \\\n",
        " -o topol.top \\\n",
        " -ff martini3001 \\\n",
        " -elastic \\\n",
        " -scfix \\\n",
        " -cys auto \\\n",
        " -dssp mkdssp \\\n",
        " -ignore HOH ATP MC3 LDA \\\n",
        " -maxwarn 42"
      ]
    },
    {
      "cell_type": "markdown",
      "metadata": {
        "id": "NluM51lezlOG"
      },
      "source": [
        "Have a look at the produced files with and editor or a molecular structure visualizer. Observe the atomic structure and the CG beads overlaid (in white and yellow spheres)."
      ]
    },
    {
      "cell_type": "code",
      "execution_count": null,
      "metadata": {
        "id": "jR4dE49_va3J"
      },
      "outputs": [],
      "source": [
        "view.remove_component(at)"
      ]
    },
    {
      "cell_type": "code",
      "execution_count": null,
      "metadata": {
        "id": "UaU0GqA7CCr_"
      },
      "outputs": [],
      "source": [
        "aa = nv.FileStructure('4c69.pdb')\n",
        "cg = nv.FileStructure('VDAC1_cg.pdb')\n",
        "\n",
        "view.add_component(aa, default=False)\n",
        "view.add_component(cg, default=False)\n",
        "\n",
        "view.clear_representations(component=0)\n",
        "view.clear_representations(component=1)\n",
        "\n",
        "view.add_licorice(selection='Protein', component=0)\n",
        "view.add_ball_and_stick(aspectRatio=7.5, opacity=0.45, component=1)\n",
        "\n",
        "view.center()\n",
        "view"
      ]
    },
    {
      "cell_type": "markdown",
      "metadata": {
        "id": "8Ub-wi3mzqK_"
      },
      "source": [
        "### Embedding a protein in a membrane using `insane`\n",
        "\n",
        "The `insane` script creates CG membranes by placing lipids in a grid. It can also embed proteins as it constructs a membrane. Insane leverages the robustness of CG to start from artificial conditions and eventually equilibrate.\n",
        "\n",
        "---\n",
        "\n",
        "Run `insane` with the `-h` flag for help deciding how to run it. You'll need to:\n",
        "* specify `VDAC1_cg.pdb` as the input protein to embed;\n",
        "* specify an output `.top` topology master file (let's call it `membrane.top`);\n",
        "* specify an output structure (let's call it `membrane_prot.gro`);\n",
        "* specify lipid proportions (95:5 POPC:ceramide) with `-l`;\n",
        "* specify the dimensions of the simulation box (x=12, y=12 and z=10) with the `-x`, `-y` and `-z` flags;\n",
        "* ask for centering the protein in the vertical axis;\n",
        "* ask for orienting the protein tilt in the membrane;\n",
        "* add waters (`-sol W`) as solute.;\n",
        "* ask for an ionic strength of 0.15 M;\n",
        "* neturalize the system with additional counterions.\n"
      ]
    },
    {
      "cell_type": "code",
      "execution_count": null,
      "metadata": {
        "id": "GGJ4KuHL3C6k"
      },
      "outputs": [],
      "source": [
        "#Try yourself!\n",
        "#Uncomment to run\n",
        "\n",
        "#!insane -f ..."
      ]
    },
    {
      "cell_type": "code",
      "execution_count": null,
      "metadata": {
        "cellView": "form",
        "id": "7zfsJYEoJ5Az"
      },
      "outputs": [],
      "source": [
        "# @title Solution\n",
        "\n",
        "!insane -f VDAC1_cg.pdb \\\n",
        "-l POPC:95 -l DPCE:5 \\\n",
        "-x 12 -y 12 -z 10 \\\n",
        "-o membrane_prot.gro \\\n",
        "-p membrane.top \\\n",
        "-center \\\n",
        "-orient \\\n",
        "-sol W \\\n",
        "-salt 0.15 \\\n",
        "-charge auto"
      ]
    },
    {
      "cell_type": "markdown",
      "metadata": {
        "id": "R6K4Q6q1BmC0"
      },
      "source": [
        "You should obtain a protein–membrane structure. Open it with a molecular visualizator. Here, you can see the protein in the  membrane, with the POPC lipids in grey and the ceramide in green. Note that, for clarity, water and ions were not displayed.\n"
      ]
    },
    {
      "cell_type": "code",
      "execution_count": null,
      "metadata": {
        "id": "tDDmt3AvByXc"
      },
      "outputs": [],
      "source": [
        "view_membrane_prot = nv.NGLWidget()\n",
        "view_membrane_prot.add_component(nv.FileStructure('membrane_prot.gro'))\n",
        "view_membrane_prot.add_representation('licorice', selection='protein')\n",
        "view_membrane_prot.add_representation('surface', selection='POPC', color='grey')\n",
        "view_membrane_prot.add_representation('surface', selection='DPCE', color='green')\n",
        "view_membrane_prot"
      ]
    },
    {
      "cell_type": "markdown",
      "metadata": {
        "id": "paH8sFCsE3u3"
      },
      "source": [
        "You may notice that despite the use of the -orient flag, insane\n",
        "was not able to completely align VDAC’s axis with the\n",
        "membrane normal. This is ok, again because the robustness of\n",
        "CG will allow the system to quickly evolve into the correct\n",
        "orientation."
      ]
    },
    {
      "cell_type": "markdown",
      "metadata": {
        "id": "5J59aSDdGEqz"
      },
      "source": [
        "### Cleaning up run-files\n",
        "\n",
        "At this point you’ll have the structure needed to run simulations, but the\n",
        "topologies/topology headers need some cleaning:\n",
        "\n"
      ]
    },
    {
      "cell_type": "markdown",
      "metadata": {
        "id": "VQBoIK2HGE6N"
      },
      "source": [
        "1. Martinize2 gives not very informative default names to files and molecules. Rename `molecule_0.itp` to `VDAC1.itp`. Inside it, also change the molecule name from `molecule_0` to `VDAC1`:\n",
        "\n",
        "\n",
        "\n"
      ]
    },
    {
      "cell_type": "code",
      "execution_count": null,
      "metadata": {
        "id": "Z2y2UZIWCQHA"
      },
      "outputs": [],
      "source": [
        "!cp molecule_0.itp VDAC1.itp"
      ]
    },
    {
      "cell_type": "code",
      "execution_count": null,
      "metadata": {
        "id": "nMhWv_nRGjlq"
      },
      "outputs": [],
      "source": [
        "!sed -i 's/molecule_0/VDAC1/g' VDAC1.itp"
      ]
    },
    {
      "cell_type": "markdown",
      "metadata": {
        "id": "DgqzwQtFHjwq"
      },
      "source": [
        "2. In `topol.top`:\n",
        "* See how the file looks:\n",
        "\n",
        "\n"
      ]
    },
    {
      "cell_type": "code",
      "execution_count": null,
      "metadata": {
        "id": "j5ZutAcwMvcp"
      },
      "outputs": [],
      "source": [
        "!cat topol.top"
      ]
    },
    {
      "cell_type": "markdown",
      "metadata": {
        "id": "KlL0_E5AMvtT"
      },
      "source": [
        "* Add the last 7 lines from membrane.top. These are the number of\n",
        "molecules of each type created by insane:"
      ]
    },
    {
      "cell_type": "code",
      "execution_count": null,
      "metadata": {
        "id": "kTwn7tdkHiJv"
      },
      "outputs": [],
      "source": [
        "!tail -n 7 membrane.top >> topol.top"
      ]
    },
    {
      "cell_type": "markdown",
      "metadata": {
        "id": "1wjfEXUzIkqv"
      },
      "source": [
        "* Change the molecule reference from `molecule_0` to `VDAC1` in the\n",
        "molecules section:"
      ]
    },
    {
      "cell_type": "code",
      "execution_count": null,
      "metadata": {
        "id": "SJro6xxuHdWz"
      },
      "outputs": [],
      "source": [
        "!sed -i 's/molecule_0/VDAC1/g' topol.top"
      ]
    },
    {
      "cell_type": "markdown",
      "metadata": {
        "id": "ityp30luK3Bo"
      },
      "source": [
        "* At the top, change the #include statement so it points to `martini_v3.0.0.itp` (this .itp must always be the first one to include):"
      ]
    },
    {
      "cell_type": "code",
      "execution_count": null,
      "metadata": {
        "id": "H_LmUzdNK18A"
      },
      "outputs": [],
      "source": [
        "!sed -i 's/include \"martini.itp\"/include \"martini_v3.0.0.itp\"/' topol.top"
      ]
    },
    {
      "cell_type": "markdown",
      "metadata": {
        "id": "Pwolm_ILMEHh"
      },
      "source": [
        "* Add extra `.itp` files for the lipid, ceramide, water and ions:"
      ]
    },
    {
      "cell_type": "code",
      "execution_count": null,
      "metadata": {
        "id": "e7L1tflYLQ-i"
      },
      "outputs": [],
      "source": [
        "!sed -i '4i\\#include \"martini_v3.0.0_phospholipids_v1.itp\"\\n#include \"DPCE.itp\"\\n#include \"martini_v3.0.0_solvents_v1.itp\"\\n#include \"martini_v3.0.0_ions_v1.itp\"\\n' topol.top"
      ]
    },
    {
      "cell_type": "markdown",
      "metadata": {
        "id": "Ot4spitCMaTP"
      },
      "source": [
        "* Change the ion names from NA+/CL- to Na and CL, respectively (insane\n",
        "uses older Martini 2 nomenclature):"
      ]
    },
    {
      "cell_type": "code",
      "execution_count": null,
      "metadata": {
        "id": "ScuvV6_SL-yw"
      },
      "outputs": [],
      "source": [
        "!sed -i 's/NA+/Na /' topol.top\n",
        "!sed -i 's/CL-/CL /' topol.top"
      ]
    },
    {
      "cell_type": "markdown",
      "metadata": {
        "id": "_LSd1z99NRR1"
      },
      "source": [
        "* See how `topol.top` looks now and compare it with before:"
      ]
    },
    {
      "cell_type": "code",
      "execution_count": null,
      "metadata": {
        "id": "pBLvK_DbNPGp"
      },
      "outputs": [],
      "source": [
        "!cat topol.top"
      ]
    },
    {
      "cell_type": "markdown",
      "metadata": {
        "id": "kz2dk2dPNnAB"
      },
      "source": [
        "## Step 3 - Simulation"
      ]
    },
    {
      "cell_type": "markdown",
      "metadata": {
        "id": "92ra_b0cO1ca"
      },
      "source": [
        "You can now run the simulations. In CG it is enough to perform a short energy\n",
        "minimization and a single pressure/temperature equilibration step before production. In GROMACS, we need to use the command `gmx grompp` to create a processed binary file (with the extension `.tpr`) for running minimization/MD calculations. The instructions for the calculation are in `.mdp` files.\n"
      ]
    },
    {
      "cell_type": "markdown",
      "metadata": {
        "id": "jpJB6_SBO6Xj"
      },
      "source": [
        "### Energy minimization"
      ]
    },
    {
      "cell_type": "markdown",
      "metadata": {
        "id": "qXXZbew5PKpu"
      },
      "source": [
        "The `em.mdp` file has the instructions for the energy minimization. Create a `.tpr` file (let's call it `em.tpr`) for performing it. Use the flag `-h` if you need help. Use the flag `maxwarn 1` to ignore a warning that crops up because of unimportant mismatches in the way insane names atoms and how they’re defined in topologies."
      ]
    },
    {
      "cell_type": "code",
      "execution_count": null,
      "metadata": {
        "id": "hAq-2Z1_NgoM"
      },
      "outputs": [],
      "source": [
        "#Try yourself!\n",
        "#Uncomment to run\n",
        "\n",
        "#!gmx grompp ..."
      ]
    },
    {
      "cell_type": "code",
      "execution_count": null,
      "metadata": {
        "cellView": "form",
        "collapsed": true,
        "id": "OoYi1KyMRe8g"
      },
      "outputs": [],
      "source": [
        "# @title Solution\n",
        "!gmx grompp -f em.mdp -p topol.top -c membrane_prot.gro -o em.tpr -maxwarn 1"
      ]
    },
    {
      "cell_type": "markdown",
      "metadata": {
        "id": "T2U5qG9vSFqz"
      },
      "source": [
        "Run now the minimization with:"
      ]
    },
    {
      "cell_type": "code",
      "execution_count": null,
      "metadata": {
        "id": "WzThnar7RvOM"
      },
      "outputs": [],
      "source": [
        "!gmx mdrun -v -deffnm em"
      ]
    },
    {
      "cell_type": "markdown",
      "metadata": {
        "id": "W_R4dnw4T09B"
      },
      "source": [
        "### Equilibration"
      ]
    },
    {
      "cell_type": "markdown",
      "metadata": {
        "id": "e6XFMsFUUU4M"
      },
      "source": [
        "The equilibration step makes use of the `eq.mdp` runfile. Prior to using it with `grompp`, you’ll have to create an index file defining the beads that are part of the protein/membrane and those that are part of the solvent. This is needed because the temperature of the two phases will be thermostatted independently and we need to tell grompp which atoms get temperature-coupled together. To make the index run:"
      ]
    },
    {
      "cell_type": "code",
      "execution_count": null,
      "metadata": {
        "id": "m5pAICCKT5AQ"
      },
      "outputs": [],
      "source": [
        "%%bash\n",
        "gmx make_ndx -f em.tpr <<EOF\n",
        "\"W\" | \"ION\"\n",
        "name 17 Solvent\n",
        "! 17\n",
        "name 18 Bilayer\n",
        "a BB\n",
        "q\n",
        "EOF"
      ]
    },
    {
      "cell_type": "markdown",
      "metadata": {
        "id": "42eoCMK6WbD0"
      },
      "source": [
        "Armed with this index and the minimized structure, you can use `grompp` and the file `eq.mdp` for genereting the `.tpr` file to perform the equilibration. Use the flat `-n` to provide the `index.ndx` file."
      ]
    },
    {
      "cell_type": "code",
      "execution_count": null,
      "metadata": {
        "id": "4ammmNLWVdXC"
      },
      "outputs": [],
      "source": [
        "#Try yourself!\n",
        "#Uncomment to run\n",
        "\n",
        "#!gmx grompp ..."
      ]
    },
    {
      "cell_type": "code",
      "execution_count": null,
      "metadata": {
        "cellView": "form",
        "id": "Cy8bcr9SXE-S"
      },
      "outputs": [],
      "source": [
        "# @title Solution\n",
        "!gmx grompp -f eq.mdp -p topol.top -c em.gro -n index.ndx -o eq.tpr -maxwarn 1"
      ]
    },
    {
      "cell_type": "markdown",
      "metadata": {
        "id": "k00vTzHqXUq9"
      },
      "source": [
        "Run now the equilibration:"
      ]
    },
    {
      "cell_type": "code",
      "execution_count": null,
      "metadata": {
        "id": "OjYehVWCXXDq"
      },
      "outputs": [],
      "source": [
        "!gmx mdrun -v -deffnm eq"
      ]
    },
    {
      "cell_type": "markdown",
      "metadata": {
        "id": "gIHoVBfdXhFa"
      },
      "source": [
        "### Production"
      ]
    },
    {
      "cell_type": "markdown",
      "metadata": {
        "id": "scKHFtF9X5BL"
      },
      "source": [
        "Finally, we can create the `.tpr` and run the production using the `md.mdp` file."
      ]
    },
    {
      "cell_type": "code",
      "execution_count": null,
      "metadata": {
        "id": "7dGdi7ADXy9v"
      },
      "outputs": [],
      "source": [
        "#Try yourself!\n",
        "#Uncomment to run\n",
        "\n",
        "#!gmx grompp ..."
      ]
    },
    {
      "cell_type": "code",
      "execution_count": null,
      "metadata": {
        "cellView": "form",
        "id": "_IYA16AiYf1c"
      },
      "outputs": [],
      "source": [
        "# @title Solution\n",
        "!gmx grompp -f md.mdp -p topol.top -c eq.gro -n index.ndx -o md.tpr"
      ]
    },
    {
      "cell_type": "markdown",
      "metadata": {
        "id": "KuqnptzDY0MP"
      },
      "source": [
        "Since this step is quite computationally expensive, we'll take the trajectory file (`md.xtc`) from the `worked` directory (also, some additional files to avoid incompatibilities)."
      ]
    },
    {
      "cell_type": "code",
      "execution_count": null,
      "metadata": {
        "id": "jcE7XlepY4ae"
      },
      "outputs": [],
      "source": [
        "!cp ../worked/md.xtc .\n",
        "!cp ../worked/index.ndx .\n",
        "!cp ../worked/eq.gro .\n",
        "!cp ../worked/md.tpr ."
      ]
    },
    {
      "cell_type": "markdown",
      "metadata": {
        "id": "GqKxdlqIY8qK"
      },
      "source": [
        "## Step 4 - Analysis"
      ]
    },
    {
      "cell_type": "markdown",
      "metadata": {
        "id": "CaqhVnLuZSmd"
      },
      "source": [
        "### Trajectory fitting"
      ]
    },
    {
      "cell_type": "markdown",
      "metadata": {
        "id": "wGS57wiYZWqu"
      },
      "source": [
        "It is useful — mostly for visualization — to have all the protein in all simulation frames centered and fit, so that all observed movement is relative to it, rather than to the box. At the same time, we will output only the lipids/protein to make the resulting trajectories lighter. This can be done with the following series of commands:"
      ]
    },
    {
      "cell_type": "code",
      "execution_count": null,
      "metadata": {
        "id": "ayZSugAVZH-C"
      },
      "outputs": [],
      "source": [
        "%%bash\n",
        "echo 'Protein' 'Bilayer' | gmx trjconv -f md.xtc -s md.tpr -center -pbc mol -o md_pbc.xtc -n index.ndx"
      ]
    },
    {
      "cell_type": "markdown",
      "metadata": {
        "id": "31l9xqCQZ86e"
      },
      "source": [
        "With the previous command we are centering on the `Protein` and only inlcuding the group `Bilayer` (Lipids+Protein, without water and ions) in the output. The flag `-pbc mol` will make molecules whole."
      ]
    },
    {
      "cell_type": "markdown",
      "metadata": {
        "id": "TWV4MpCOZvSn"
      },
      "source": [
        "Let's do the same as above but only on the starting structure of the production, producing one centered structure (useful later for use with VMD)."
      ]
    },
    {
      "cell_type": "code",
      "execution_count": null,
      "metadata": {
        "id": "wNPtFTqHZ7el"
      },
      "outputs": [],
      "source": [
        "%%bash\n",
        "echo 'Protein' 'Bilayer' | gmx trjconv -f eq.gro -s md.tpr -center -pbc mol -o md_pbc.gro -n index.ndx"
      ]
    },
    {
      "cell_type": "markdown",
      "metadata": {
        "id": "pSN-PBBiae8u"
      },
      "source": [
        "Let's convert the production tpr file into another with fewer atoms compatibl with our centered trajectory (since we now ignore the solvent)."
      ]
    },
    {
      "cell_type": "code",
      "execution_count": null,
      "metadata": {
        "id": "hQITw13Wa8pZ"
      },
      "outputs": [],
      "source": [
        "%%bash\n",
        "echo 'Bilayer' | gmx convert-tpr -s md.tpr -n index.ndx -o fit.tpr"
      ]
    },
    {
      "cell_type": "markdown",
      "metadata": {
        "id": "Exq-IRjLbERw"
      },
      "source": [
        "Now, fits each frame’s protein to the conformation in `fit.tpr`, by aligning backbone beads."
      ]
    },
    {
      "cell_type": "code",
      "execution_count": null,
      "metadata": {
        "id": "UEsA7MbncreQ"
      },
      "outputs": [],
      "source": [
        "%%bash\n",
        "echo 'BB' 'Bilayer' | gmx trjconv -f md_pbc.xtc -s fit.tpr -fit rotxy+transxy -o md_fit.xtc -n index.ndx"
      ]
    },
    {
      "cell_type": "markdown",
      "metadata": {
        "id": "X8EcS7accvnL"
      },
      "source": [
        "Download `md_pbc.gro` and `md_fit.xtc` and take a look at the resulting trajectory with VMD — possibly showing only VDAC1 and the ceramides — and see how trajectory fitting highlights protein–ceramide interactions (see section 4.3 for visualization tips and advanced analyses using VMD)"
      ]
    },
    {
      "cell_type": "markdown",
      "metadata": {
        "id": "qAFpEnS7dTiA"
      },
      "source": [
        "### Ceramide contact counting"
      ]
    },
    {
      "cell_type": "markdown",
      "metadata": {
        "id": "9JkSCe-BdmpY"
      },
      "source": [
        "To count contacts we first get a list of closest distances between any ceramide and each residue of the protein, over time, using `gmx mindist`. Display first the help options with the `-h` flag."
      ]
    },
    {
      "cell_type": "code",
      "execution_count": null,
      "metadata": {
        "id": "9k4YrNWUdC9g"
      },
      "outputs": [],
      "source": [
        "!gmx mindist -h"
      ]
    },
    {
      "cell_type": "markdown",
      "metadata": {
        "id": "1pFgNjYid0OA"
      },
      "source": [
        "Try now to calculate the contacts using gmx mindist. You will need to select the groups `Protein` and `DPCE`."
      ]
    },
    {
      "cell_type": "code",
      "execution_count": null,
      "metadata": {
        "id": "X0ga9Gaxd7__"
      },
      "outputs": [],
      "source": [
        "#Try yourself!\n",
        "#Uncomment to run\n",
        "\n",
        "#%%bash\n",
        "#echo 'Protein' 'DPCE' | gmx mindist ..."
      ]
    },
    {
      "cell_type": "code",
      "execution_count": null,
      "metadata": {
        "cellView": "form",
        "id": "1hyTeOETd_vy"
      },
      "outputs": [],
      "source": [
        "# @title Solution\n",
        "\n",
        "%%bash\n",
        "\n",
        "echo 'Protein' 'DPCE' | gmx mindist -respertime -s fit.tpr -f md_fit.xtc -or res_dists.xvg"
      ]
    },
    {
      "cell_type": "markdown",
      "metadata": {
        "id": "f1GMtrhie4Tf"
      },
      "source": [
        "The included script `contact_fraction.py` converts these distances into contacts, and represents them as the fraction of the total trajectory time during which a given residue was in contact with a ceramide. It assumes a 6 Å cutoff for considering contacts. Run it like this:"
      ]
    },
    {
      "cell_type": "code",
      "execution_count": null,
      "metadata": {
        "id": "ZjZqvMuOeRk_"
      },
      "outputs": [],
      "source": [
        "!python contact_fraction.py"
      ]
    },
    {
      "cell_type": "code",
      "execution_count": null,
      "metadata": {
        "id": "sDana24iti9S"
      },
      "outputs": [],
      "source": [
        "import numpy as np\n",
        "import matplotlib.pyplot as plt\n",
        "mindists = np.loadtxt('res_dists.xvg', comments=('@', '#'))\n",
        "contacts = mindists[:,1:] <= 0.6\n",
        "avg_contact_fraction = contacts.mean(axis=0)\n",
        "plt.plot(np.arange(1, len(avg_contact_fraction) + 1), avg_contact_fraction)\n",
        "plt.show()"
      ]
    },
    {
      "cell_type": "markdown",
      "metadata": {
        "id": "ZbyPLChrfQ-4"
      },
      "source": [
        "The script’s output already shows some regions of preferred contact, but it is not so clear among all the contacts whether there is a binding site (ceramides do seem to also bind on the region around Glu73, which is encouraging). In the next section we perform a more visual contact analysis."
      ]
    },
    {
      "cell_type": "markdown",
      "metadata": {
        "id": "vdLfcJNpfXss"
      },
      "source": [
        "## Conclusion\n",
        "\n",
        "Congratulations! You have completed this tutorial! If you want, you can continue by clicking **[here](https://github.com/martincalvelo/MARTINI-CG-TUTORIALS/blob/main/1-Ceramide%E2%80%93VDAC1_binding_in_a_membrane/1-Tutorial_Ceramide-VDAC1_binding.pdf)** and performing some analyses with the VMD software that you will find in sections 4.3 and 4.4.\n",
        "\n",
        "\n",
        "If not, you can take another one of our tutorials. **[What do you think about the topic of lipidomics and antimicrobial peptides](https://github.com/martincalvelo/MARTINI-CG-TUTORIALS/tree/main/2-Lipidomics_with_Magainin_II)**?\n",
        "\n",
        "For more information, visit the official Martini web https://cgmartini.nl/."
      ]
    }
  ],
  "metadata": {
    "accelerator": "GPU",
    "colab": {
      "collapsed_sections": [
        "JmvnpR153NAG",
        "QJY8CWwKZK1C",
        "kz2dk2dPNnAB",
        "GqKxdlqIY8qK"
      ],
      "gpuType": "T4",
      "provenance": [],
      "toc_visible": true,
      "include_colab_link": true
    },
    "kernelspec": {
      "display_name": "Python 3",
      "name": "python3"
    },
    "language_info": {
      "name": "python"
    }
  },
  "nbformat": 4,
  "nbformat_minor": 0
}