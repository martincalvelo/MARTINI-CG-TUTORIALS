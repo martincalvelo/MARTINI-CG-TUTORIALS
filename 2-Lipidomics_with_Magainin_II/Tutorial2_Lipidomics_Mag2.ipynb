{
  "nbformat": 4,
  "nbformat_minor": 0,
  "metadata": {
    "colab": {
      "provenance": [],
      "gpuType": "T4",
      "collapsed_sections": [
        "JmvnpR153NAG",
        "QJY8CWwKZK1C",
        "0iOQXHvrwH0P",
        "0R5KsQK6BHC8",
        "8Ub-wi3mzqK_",
        "5J59aSDdGEqz",
        "ZK5agXup7yvM",
        "gkFLIrDp7zCx",
        "KFxgZGRC8jlz",
        "RfNdXxpzBbsG",
        "Wu9WN3JTEF6O",
        "DVvVsEMsBfLt",
        "wMWU6fyfFBiG",
        "EBLKBhNNGGxR",
        "YNFIEuGWGUgY",
        "kz2dk2dPNnAB",
        "fMK0WSzZHl7m",
        "jpJB6_SBO6Xj",
        "W_R4dnw4T09B",
        "gIHoVBfdXhFa",
        "G_NyP8hmIfq1",
        "sV0Syv2-IkcK",
        "aclhVtEGIm-j",
        "W2QqVsc4Ipf9",
        "GqKxdlqIY8qK",
        "rEc4U0IzNd1J",
        "CaqhVnLuZSmd",
        "qAFpEnS7dTiA",
        "BGj1qyHoE4kM",
        "vnR_X4aHG50M",
        "NVaPb7kgG-xG",
        "JCMzTxKfNa_w",
        "ANrY6Iv7HD8O"
      ],
      "toc_visible": true,
      "include_colab_link": true
    },
    "kernelspec": {
      "name": "python3",
      "display_name": "Python 3"
    },
    "language_info": {
      "name": "python"
    },
    "accelerator": "GPU"
  },
  "cells": [
    {
      "cell_type": "markdown",
      "metadata": {
        "id": "view-in-github",
        "colab_type": "text"
      },
      "source": [
        "<a href=\"https://colab.research.google.com/github/martincalvelo/MARTINI-CG-TUTORIALS/blob/main/2-Lipidomics_with_Magainin_II/Tutorial2_Lipidomics_Mag2.ipynb\" target=\"_parent\"><img src=\"https://colab.research.google.com/assets/colab-badge.svg\" alt=\"Open In Colab\"/></a>"
      ]
    },
    {
      "cell_type": "markdown",
      "source": [
        "# Coarse-grain MD tutorial\n",
        "## Lipidomics study: Mag2 in a POPC and POPC-POPG 3:1 membrane\n",
        "\n",
        "\n",
        "---\n",
        "\n"
      ],
      "metadata": {
        "id": "DJeXV8L73ajD"
      }
    },
    {
      "cell_type": "markdown",
      "source": [
        "### *Tutorial notes*\n",
        "\n",
        "* In this tutorial you'll find two directories. Directory `worked` has all the intermediate steps and results, whereas directory `minimal` has only the essential files to get you going, and you'll have to do most of the work yourself. Feel free to follow the tutorial using either approach, or even a mix of the two.\n",
        "\n",
        "* This tutorial should be run in a T4 GPU Colab runtime (you can check and change this in the upper right 'Connect' menu). Click on \"Change runtime type\" and select Python 3 (default) and T4 GPU.\n",
        "\n",
        "* Much of the tutorial involves running shell commands. In Colab, this is achieved by prepending an exclamation mark to the command (`!some shell_command`). You can see this exemplified below in the installation. Note that if you need to change directories, the exclamation mark method won't work; you need to use a percent sign, and run the command in its own cell (`%cd target_dir`).\n",
        "\n",
        "* To run any of the following cells of code, you can type **Shift + Enter** to excute the code in a cell.\n"
      ],
      "metadata": {
        "id": "td1Gqim4xbJf"
      }
    },
    {
      "cell_type": "markdown",
      "source": [
        "## Step 0 - Downloading and installing of the tutorial software and materials.\n",
        "\n",
        "_The text output of these steps was minimized so as not to overcrowd the notebook. Feel free to take out the `-q` flags or add the `-v` flag to `tar` if you want full output or for debugging purposes._\n",
        "\n",
        "---"
      ],
      "metadata": {
        "id": "JmvnpR153NAG"
      }
    },
    {
      "cell_type": "markdown",
      "source": [
        "We install `gromacs`, pre-built for the colab runtime:"
      ],
      "metadata": {
        "id": "QwEvzGVENBdH"
      }
    },
    {
      "cell_type": "code",
      "source": [
        "!wget https://www.itqb.unl.pt/labs/multiscale-modeling/downloads/gromacs-2023.3-gcolab_build.tar.gz -q -O - | tar --absolute-names -xzf -"
      ],
      "metadata": {
        "id": "vonL7S4i3MJx"
      },
      "execution_count": null,
      "outputs": []
    },
    {
      "cell_type": "markdown",
      "source": [
        "We install some Python packages, and import the ones we'll need:\n",
        "* The `vermouth` (provides the `martinize2` script) package from the Martini team\n",
        "* The `MDAnalysis` package\n",
        "* The `nglview` molecular viewer (requires enabling custom notebook widgets, which we also do below)"
      ],
      "metadata": {
        "id": "dwbh69d7NUs_"
      }
    },
    {
      "cell_type": "code",
      "execution_count": null,
      "metadata": {
        "id": "9ltq8Wr916D2"
      },
      "outputs": [],
      "source": [
        "!pip install -q vermouth mdanalysis"
      ]
    },
    {
      "cell_type": "code",
      "execution_count": null,
      "metadata": {
        "id": "gE5XGwECL5s_"
      },
      "outputs": [],
      "source": [
        "!pip install -qU ipywidgets==7.7.2 nglview"
      ]
    },
    {
      "cell_type": "code",
      "source": [
        "# Needed for nglview to work in colab\n",
        "from google.colab import output\n",
        "output.enable_custom_widget_manager()"
      ],
      "metadata": {
        "id": "xySccxhMClye"
      },
      "execution_count": null,
      "outputs": []
    },
    {
      "cell_type": "code",
      "source": [
        "import nglview as nv\n",
        "import MDAnalysis as mda"
      ],
      "metadata": {
        "id": "Z1uPHfATMLdo"
      },
      "execution_count": null,
      "outputs": []
    },
    {
      "cell_type": "markdown",
      "source": [
        "Finally, we download and unpack the tutorial's material."
      ],
      "metadata": {
        "id": "Hq5wgt39N4YV"
      }
    },
    {
      "cell_type": "code",
      "source": [
        "!wget https://zenodo.org/records/13890148/files/2-Tutorial_Lipidomics.zip\n",
        "!unzip 2-Tutorial_Lipidomics.zip"
      ],
      "metadata": {
        "id": "n-sAbFInjqTs",
        "collapsed": true
      },
      "execution_count": null,
      "outputs": []
    },
    {
      "cell_type": "markdown",
      "source": [
        "We will start in subdirectory `minimal`, but feel free to change to `worked`."
      ],
      "metadata": {
        "id": "cXI2_iO3Mv4b"
      }
    },
    {
      "cell_type": "code",
      "source": [
        "%cd minimal"
      ],
      "metadata": {
        "id": "zFwCjDYWysBB"
      },
      "execution_count": null,
      "outputs": []
    },
    {
      "cell_type": "markdown",
      "source": [
        "## Step 1 - Introduction\n",
        "\n",
        "Antimicrobial peptides (AMPs) play a vital role in the innate immune system of all living organisms.$^{1,2}$ These peptides can identify and disrupt lipid patterns in bacterial membranes without harming healthy cells.$^{3}$ Notably, AMPs often possess shared properties: they typically consist of 10–40 residues, adopt an α-helix secondary structure when they interact with membranes, maintain a positive net charge, and contain a significant number of non-polar residues. These features, along with their pronounced transversal hydrophobic moment in their folded state, facilitate interactions with lipid bilayers. Thus, the use of these molecules as therapeutic agents is an obvious lesson\n",
        "from Nature that can be exploited to design new antibiotics, anticancer or antiaging drugs.$^{4}$\n",
        "\n",
        "In this tutorial, we will investigate the potential antimicrobial properties of Magainin-II (Mag2), one of the most well-known natural AMPs.$^{5}$ We will simulate it in the presence of two different membrane models: one representing a healthy membrane (POPC), and the other a bacterial bilayer (POPC-POPG 3:1). We’ll place several AMPs in the aqueous phase of our systems and run simulations, analysing potential spontaneous peptide-bilayer interactions.\n",
        "\n",
        "\n",
        "1. Lancet Infect Dis. 9, e216; doi: 10.1016/S1473-3099(20)30327-3 (2020)\n",
        "\n",
        "1. Front. Microbiol. 11; doi: 10.3389/fmicb.2020.582779 (2020)\n",
        "\n",
        "1. Colloids Surf. B Biointerfaces 196, 111349; doi: 10.1016/j.colsurfb.2020.111349 (2020)\n",
        "1. Front. Immunol. 15, doi: 10.3389/fimmu.2024.1320779 (2024)\n",
        "1. BBA. 1327, 119; doi: 10.1016/S0005-2736(97)00051-5 (1997)"
      ],
      "metadata": {
        "id": "ozHNz91IEmXN"
      }
    },
    {
      "cell_type": "markdown",
      "source": [
        "## Step 2 - System preparation\n"
      ],
      "metadata": {
        "id": "QJY8CWwKZK1C"
      }
    },
    {
      "cell_type": "markdown",
      "source": [
        "In your directories you'll find Mag2.pdb file, containing a α-helix structure of the Magainin II peptide.\n",
        "\n",
        "Before coarse graining anything we visualize our starting protein structure using nglview. Other viewers, such as pymol or VMD are also great, if you run this workflow outside Colab."
      ],
      "metadata": {
        "id": "FMxpj5nYUFK7"
      }
    },
    {
      "cell_type": "code",
      "source": [
        "view = nv.NGLWidget()\n",
        "at = view.add_component(nv.FileStructure('Mag2.pdb'))\n",
        "view"
      ],
      "metadata": {
        "id": "P5G3fqWXZMQG"
      },
      "execution_count": null,
      "outputs": []
    },
    {
      "cell_type": "markdown",
      "source": [
        "### Coarse-graining with `martinize2`\n",
        "\n",
        "For CG MD simulation of a protein one needs the CG coordinates and the CG topology. Both can be obtained with the `martinize2` tool (despite its name, it works with Martini 3).\n",
        "\n",
        "---\n",
        "\n",
        "You'll need to:\n",
        "* specify `Mag2.pdb` as the input structure;\n",
        "* specify an output CG structure (let's call it `Mag2_cg.pdb`);\n",
        "* specify an output `.top` topology master file (let's call it `topol.top`);\n",
        "* specify the target forcefield. Martini 3 has code `martini3001`;\n",
        "* ask for an elastic network to be set, restraining secondary/tertiary structure;\n",
        "* ask for fixing some issues with the excess of flexible side-chain behaviour;\n",
        "* we don't need DSSP in this case, since we will assume directly that the peptide will adopt an alpha-helix structure. You can provide directly the secondary structure with the flag `-ss HHHHHHHHHHHHHHHHHHHHHHH`;"
      ],
      "metadata": {
        "id": "0iOQXHvrwH0P"
      }
    },
    {
      "cell_type": "code",
      "source": [
        "#Try yourself!\n",
        "#Uncomment to run\n",
        "\n",
        "#!martinize2 -f ..."
      ],
      "metadata": {
        "id": "GOuDx3X60bEy"
      },
      "execution_count": null,
      "outputs": []
    },
    {
      "cell_type": "code",
      "source": [
        "# @title Solution\n",
        "\n",
        "!martinize2 -f Mag2.pdb \\\n",
        " -x Mag2_cg.pdb \\\n",
        " -o topol.top \\\n",
        " -ff martini3001 \\\n",
        " -elastic \\\n",
        " -scfix \\\n",
        " -ss 'HHHHHHHHHHHHHHHHHHHHHHH'"
      ],
      "metadata": {
        "id": "eEcyPkZmC_kJ",
        "collapsed": true,
        "cellView": "form"
      },
      "execution_count": null,
      "outputs": []
    },
    {
      "cell_type": "markdown",
      "source": [
        "Have a look at the produced files with and editor or a molecular structure visualizer. Observe the atomic structure and the CG beads overlaid (in white and yellow spheres)."
      ],
      "metadata": {
        "id": "NluM51lezlOG"
      }
    },
    {
      "cell_type": "code",
      "source": [
        "view.remove_component(at)"
      ],
      "metadata": {
        "id": "jR4dE49_va3J"
      },
      "execution_count": null,
      "outputs": []
    },
    {
      "cell_type": "code",
      "source": [
        "aa = nv.FileStructure('Mag2.pdb')\n",
        "cg = nv.FileStructure('Mag2_cg.pdb')\n",
        "\n",
        "view.add_component(aa, default=False)\n",
        "view.add_component(cg, default=False)\n",
        "\n",
        "view.clear_representations(component=0)\n",
        "view.clear_representations(component=1)\n",
        "\n",
        "view.add_licorice(selection='Protein', component=0)\n",
        "view.add_ball_and_stick(aspectRatio=7.5, opacity=0.45, component=1)\n",
        "\n",
        "view.center()\n",
        "view"
      ],
      "metadata": {
        "id": "UaU0GqA7CCr_"
      },
      "execution_count": null,
      "outputs": []
    },
    {
      "cell_type": "markdown",
      "source": [
        "### POPC membrane\n",
        "Let's continue with the tutorial. The steps are the same for both membranes. Let's start with the `POPC` one:"
      ],
      "metadata": {
        "id": "0R5KsQK6BHC8"
      }
    },
    {
      "cell_type": "code",
      "source": [
        "%cd POPC"
      ],
      "metadata": {
        "id": "XhUVW6GRHVD1"
      },
      "execution_count": null,
      "outputs": []
    },
    {
      "cell_type": "markdown",
      "source": [
        "#### Insert Mag2 peptides\n",
        "\n",
        "The first step will be to insert some Mag2 peptides into our system (let’s add 10, but feel free to choose a different number if you prefer). For this, we’ll use the gmx insert-molecules command from GROMACS. Execute it with the flag -h for having more info.\n"
      ],
      "metadata": {
        "id": "8Ub-wi3mzqK_"
      }
    },
    {
      "cell_type": "code",
      "source": [
        "!gmx insert-molecules -h"
      ],
      "metadata": {
        "id": "GGJ4KuHL3C6k"
      },
      "execution_count": null,
      "outputs": []
    },
    {
      "cell_type": "markdown",
      "source": [
        "We have a POPC membrane in water box already equilibrated in a file called `POPC.gro`. Let’s place the peptides in the aqueous phase. In this way, we’ll see if they spontaneously interact with the membrane. We can do this by instructing `gmx insert-molecules` to remove water molecules (`W`) to make room for our peptide (use the option `-replace`).\n",
        "Take into account that the CG coordinates of Mag2 are in the previous directory, so we need to write **../** before the file name (`../Mag2_cg.pdb`).\n",
        "Let's call the output `system.gro`. Try yourself!"
      ],
      "metadata": {
        "id": "Gxc0Wttc58OA"
      }
    },
    {
      "cell_type": "code",
      "source": [
        "#Try yourself!\n",
        "#Uncomment to run\n",
        "\n",
        "#!gmx insert-molecules -f ... -ci .../... -nmol ... -o system.gro -replace W -try 100"
      ],
      "metadata": {
        "id": "TKDP5Xpc6Ras"
      },
      "execution_count": null,
      "outputs": []
    },
    {
      "cell_type": "code",
      "source": [
        "# @title Solution\n",
        "\n",
        "!gmx insert-molecules -f POPC.gro \\\n",
        "                      -ci ../Mag2_cg.pdb \\\n",
        "                      -nmol 10 \\\n",
        "                      -o system.gro \\\n",
        "                      -replace W \\\n",
        "                      -try 100"
      ],
      "metadata": {
        "id": "7zfsJYEoJ5Az",
        "cellView": "form"
      },
      "execution_count": null,
      "outputs": []
    },
    {
      "cell_type": "markdown",
      "source": [
        "Open the output `system.gro` with a molecular visualizator. Here, you can see the peptides in the  solvent, with the POPC lipids in grey. Note that, for clarity, water and ions were not displayed.\n"
      ],
      "metadata": {
        "id": "R6K4Q6q1BmC0"
      }
    },
    {
      "cell_type": "code",
      "source": [
        "view_membrane_prot = nv.NGLWidget()\n",
        "view_membrane_prot.add_component(nv.FileStructure('system.gro'))\n",
        "view_membrane_prot.add_representation('tube', selection='protein', radius=1)\n",
        "view_membrane_prot.add_representation('surface', selection='POPC', color='grey')\n",
        "view_membrane_prot"
      ],
      "metadata": {
        "id": "tDDmt3AvByXc"
      },
      "execution_count": null,
      "outputs": []
    },
    {
      "cell_type": "markdown",
      "source": [
        "#### Update topology (1)\n",
        "\n",
        "The file `initial_top.top` is a good start, but we need to complete it. Specifically, we need to add the number of W, CL, NA, and peptides in the system. The first step is to create a copy of the file `initial_top.top` (let's call this new file `top.top`).\n",
        "\n",
        "\n",
        "\n"
      ],
      "metadata": {
        "id": "5J59aSDdGEqz"
      }
    },
    {
      "cell_type": "code",
      "source": [
        "!cp initial_top.top top.top"
      ],
      "metadata": {
        "id": "Z2y2UZIWCQHA"
      },
      "execution_count": null,
      "outputs": []
    },
    {
      "cell_type": "markdown",
      "source": [
        "We can automatically update the number of W, CL, NA, and peptides molecules by using the python script `update_topology.py`. It will count the number of those molecules in a input file (`system.gro`) and add it directly to a topology file (`top.top`). Run the script like this:"
      ],
      "metadata": {
        "id": "DgqzwQtFHjwq"
      }
    },
    {
      "cell_type": "code",
      "source": [
        "!python3 ../update_topology.py system.gro top.top"
      ],
      "metadata": {
        "id": "j5ZutAcwMvcp"
      },
      "execution_count": null,
      "outputs": []
    },
    {
      "cell_type": "markdown",
      "source": [
        "Add also a line with the number of peptides inserted:"
      ],
      "metadata": {
        "id": "KlL0_E5AMvtT"
      }
    },
    {
      "cell_type": "code",
      "source": [
        "%%bash\n",
        "echo \"molecule_0  10\" >> top.top"
      ],
      "metadata": {
        "id": "kTwn7tdkHiJv"
      },
      "execution_count": null,
      "outputs": []
    },
    {
      "cell_type": "markdown",
      "source": [
        "#### Neutralize the system\n",
        "\n",
        "MD simulations must be executed with a total net charge of 0. Since Mag2 has a charge of +2, adding the peptides has resulted in an imbalance in the system's charge. We need to fix this. We can do this using the GROMACS tool `gmx genion`. To start, we need to create a *.tpr* file. Generate it by running the following command:\n"
      ],
      "metadata": {
        "id": "ZK5agXup7yvM"
      }
    },
    {
      "cell_type": "code",
      "source": [
        "!gmx grompp -f ../em.mdp -c system.gro -p top.top -o ions.tpr -maxwarn 1"
      ],
      "metadata": {
        "id": "OWvxGQtb78ku"
      },
      "execution_count": null,
      "outputs": []
    },
    {
      "cell_type": "markdown",
      "source": [
        "Now let's run the `gmx genion` command. We’ll achieve a neutral charge with the `-neutral` flag and will need to specify which molecules it will replace to add extra ions to balance the charge (water, in this case)."
      ],
      "metadata": {
        "id": "6y_bT8Vy7y41"
      }
    },
    {
      "cell_type": "code",
      "source": [
        "%%bash\n",
        "echo \"W\" | gmx genion -s ions.tpr -neutral -o system_neutralized.gro"
      ],
      "metadata": {
        "id": "BO2HhI998DrA"
      },
      "execution_count": null,
      "outputs": []
    },
    {
      "cell_type": "markdown",
      "source": [
        "This command will generate a file with the coordinates of the neutralized system called `system_neutralized.gro`."
      ],
      "metadata": {
        "id": "4p_i_8158DLc"
      }
    },
    {
      "cell_type": "markdown",
      "source": [
        "#### Update topology (2)\n",
        "\n",
        "Since we’ve changed the number of water molecules and ions when neutralizing the system, we need to update the topology again. Let’s start again from the `initial_top.top` file:"
      ],
      "metadata": {
        "id": "gkFLIrDp7zCx"
      }
    },
    {
      "cell_type": "code",
      "source": [
        "!cp initial_top.top top.top"
      ],
      "metadata": {
        "id": "NEFpoxc68T1O"
      },
      "execution_count": null,
      "outputs": []
    },
    {
      "cell_type": "markdown",
      "source": [
        "And let’s run the `update_topology.py` script again, but this time using `system_neutralized.gro` as the input file."
      ],
      "metadata": {
        "id": "hZQ5_DTN8VZQ"
      }
    },
    {
      "cell_type": "code",
      "source": [
        "!python3 ../update_topology.py system_neutralized.gro top.top"
      ],
      "metadata": {
        "id": "NqqLhBwv8aOq"
      },
      "execution_count": null,
      "outputs": []
    },
    {
      "cell_type": "markdown",
      "source": [
        "Remember to add also a line with the number of peptides:"
      ],
      "metadata": {
        "id": "Ri9-nqcl8VkF"
      }
    },
    {
      "cell_type": "code",
      "source": [
        "%%bash\n",
        "echo \"molecule_0  10\" >> top.top"
      ],
      "metadata": {
        "id": "kINXiYsE8hse"
      },
      "execution_count": null,
      "outputs": []
    },
    {
      "cell_type": "markdown",
      "source": [
        "Take a look to the `top.top` file:"
      ],
      "metadata": {
        "id": "r3fsylvc9BdF"
      }
    },
    {
      "cell_type": "code",
      "source": [
        "!cat top.top"
      ],
      "metadata": {
        "id": "Q4fPwcgL9NFO"
      },
      "execution_count": null,
      "outputs": []
    },
    {
      "cell_type": "markdown",
      "source": [
        "#### Create and index file\n",
        "\n",
        "Let's create an index file defining the beads that are part of the protein and membrane and those that are part of the solvent. Run first the `gmx make_ndx` command of GROMACS using as input the `system_neutralized.gro` file:\n"
      ],
      "metadata": {
        "id": "KFxgZGRC8jlz"
      }
    },
    {
      "cell_type": "code",
      "source": [
        "%%bash\n",
        "echo 'q' | gmx make_ndx -f system_neutralized.gro"
      ],
      "metadata": {
        "id": "xXrWawjz8vnZ"
      },
      "execution_count": null,
      "outputs": []
    },
    {
      "cell_type": "markdown",
      "source": [
        "Using the `create_index.py` script, we’ll create 3 groups:\n",
        "* Bilayer: beads of the membrane.\n",
        "* Bilayer_Protein: beads of the membrane and the AMPs. We’ll use this for analysis.\n",
        "* Solvent: Water and ions.\n",
        "\n",
        "Run the script:"
      ],
      "metadata": {
        "id": "BI2j58dd8js8"
      }
    },
    {
      "cell_type": "code",
      "source": [
        "!python3 ../create_index.py system_neutralized.gro"
      ],
      "metadata": {
        "id": "sepf4vg184Zn"
      },
      "execution_count": null,
      "outputs": []
    },
    {
      "cell_type": "markdown",
      "source": [
        "### POPC-POPG 3:1 membrane\n",
        "As we said, in this tutorial we are going to simulate two membranes. Now that you have seen how to prepare the system for one of them, try preparing the other one yourself!"
      ],
      "metadata": {
        "id": "RfNdXxpzBbsG"
      }
    },
    {
      "cell_type": "code",
      "source": [
        "%cd /content/minimal/POPC-POPG_31/"
      ],
      "metadata": {
        "id": "o7O8j9J-DdWE"
      },
      "execution_count": null,
      "outputs": []
    },
    {
      "cell_type": "markdown",
      "source": [
        "#### Insert Mag2 peptides\n",
        "\n",
        "Take into account that now our membrane file is called `POPC-POPG_31.gro`."
      ],
      "metadata": {
        "id": "Wu9WN3JTEF6O"
      }
    },
    {
      "cell_type": "code",
      "source": [
        "# Complete it\n",
        "\n",
        "!gmx insert-molecules"
      ],
      "metadata": {
        "id": "KhPfwLhWEIWy"
      },
      "execution_count": null,
      "outputs": []
    },
    {
      "cell_type": "code",
      "source": [
        "# @title Solution\n",
        "\n",
        "!gmx insert-molecules -f POPC-POPG_31.gro \\\n",
        "                      -ci ../Mag2_cg.pdb \\\n",
        "                      -nmol 10 \\\n",
        "                      -o system.gro \\\n",
        "                      -replace W \\\n",
        "                      -try 100"
      ],
      "metadata": {
        "id": "9WkTjhzkE7yh",
        "cellView": "form"
      },
      "execution_count": null,
      "outputs": []
    },
    {
      "cell_type": "markdown",
      "source": [
        "#### Update topology (1)"
      ],
      "metadata": {
        "id": "DVvVsEMsBfLt"
      }
    },
    {
      "cell_type": "code",
      "source": [
        "!cp initial_top.top top.top"
      ],
      "metadata": {
        "id": "DISKITdkFCQm"
      },
      "execution_count": null,
      "outputs": []
    },
    {
      "cell_type": "code",
      "source": [
        "!python3 ../update_topology.py system.gro top.top"
      ],
      "metadata": {
        "id": "uXZZb60KFFFI"
      },
      "execution_count": null,
      "outputs": []
    },
    {
      "cell_type": "code",
      "source": [
        "%%bash\n",
        "echo \"molecule_0  10\" >> top.top"
      ],
      "metadata": {
        "id": "trMhZcytFHvw"
      },
      "execution_count": null,
      "outputs": []
    },
    {
      "cell_type": "markdown",
      "source": [
        "#### Neutralize the system"
      ],
      "metadata": {
        "id": "wMWU6fyfFBiG"
      }
    },
    {
      "cell_type": "code",
      "source": [
        "# Complete it\n",
        "\n",
        "!gmx grompp -f ../em.mdp"
      ],
      "metadata": {
        "id": "pnZsfs5SFOmb"
      },
      "execution_count": null,
      "outputs": []
    },
    {
      "cell_type": "code",
      "source": [
        "# @title Solution\n",
        "\n",
        "!gmx grompp -f ../em.mdp -c system.gro -p top.top -o ions.tpr -maxwarn 1"
      ],
      "metadata": {
        "id": "QMnVbwKRFq_1",
        "cellView": "form"
      },
      "execution_count": null,
      "outputs": []
    },
    {
      "cell_type": "code",
      "source": [
        "%%bash\n",
        "# echo ... | !gmx genion"
      ],
      "metadata": {
        "id": "_NclY-B-AH3B"
      },
      "execution_count": null,
      "outputs": []
    },
    {
      "cell_type": "code",
      "source": [
        "# @title Solution\n",
        "%%bash\n",
        "\n",
        "echo \"W\" | gmx genion -s ions.tpr -neutral -o system_neutralized.gro"
      ],
      "metadata": {
        "id": "W7qHJKltFhm6",
        "cellView": "form"
      },
      "execution_count": null,
      "outputs": []
    },
    {
      "cell_type": "markdown",
      "source": [],
      "metadata": {
        "id": "9gpnLHKWD6Xb"
      }
    },
    {
      "cell_type": "markdown",
      "source": [
        "#### Update topology (2)"
      ],
      "metadata": {
        "id": "EBLKBhNNGGxR"
      }
    },
    {
      "cell_type": "code",
      "source": [
        "!cp initial_top.top top.top"
      ],
      "metadata": {
        "id": "nNhfVqGMGJvq"
      },
      "execution_count": null,
      "outputs": []
    },
    {
      "cell_type": "code",
      "source": [
        "!python3 ../update_topology.py system_neutralized.gro top.top"
      ],
      "metadata": {
        "id": "Bv-ef9TeGN50"
      },
      "execution_count": null,
      "outputs": []
    },
    {
      "cell_type": "code",
      "source": [
        "%%bash\n",
        "echo \"molecule_0  10\" >> top.top"
      ],
      "metadata": {
        "id": "Ac_hOnIRGQzt"
      },
      "execution_count": null,
      "outputs": []
    },
    {
      "cell_type": "markdown",
      "source": [
        "#### Create index file"
      ],
      "metadata": {
        "id": "YNFIEuGWGUgY"
      }
    },
    {
      "cell_type": "code",
      "source": [
        "%%bash\n",
        "echo 'q' | gmx make_ndx -f system_neutralized.gro"
      ],
      "metadata": {
        "id": "AQ3vJZU5GYeO"
      },
      "execution_count": null,
      "outputs": []
    },
    {
      "cell_type": "code",
      "source": [
        "!python3 ../create_index.py system_neutralized.gro"
      ],
      "metadata": {
        "id": "eK4HCCAKGZoh"
      },
      "execution_count": null,
      "outputs": []
    },
    {
      "cell_type": "markdown",
      "source": [
        "## Step 3 - Simulation\n",
        "\n",
        "You can now run the simulations. In CG it is enough to perform a short energy\n",
        "minimization and a single pressure/temperature equilibration step before production. In GROMACS, we need to use the command `gmx grompp` to create a processed binary file (with the extension `.tpr`) for running minimization/MD calculations. The instructions for the calculation are in `.mdp` files. Again, let's start with the POPC membrane:"
      ],
      "metadata": {
        "id": "kz2dk2dPNnAB"
      }
    },
    {
      "cell_type": "markdown",
      "source": [
        "### POPC membrane\n"
      ],
      "metadata": {
        "id": "fMK0WSzZHl7m"
      }
    },
    {
      "cell_type": "code",
      "source": [
        "%cd /content/minimal/POPC/"
      ],
      "metadata": {
        "id": "ulUAW0t_HsKD"
      },
      "execution_count": null,
      "outputs": []
    },
    {
      "cell_type": "markdown",
      "source": [
        "#### Energy minimization"
      ],
      "metadata": {
        "id": "jpJB6_SBO6Xj"
      }
    },
    {
      "cell_type": "markdown",
      "source": [
        "Let's create the tpr file (`em.tpr`) to perform the energy minimization. You will need a *mdp* file, available in the previous directory (`../em.mdp`). Open it with a text editor to check it.\n",
        "\n",
        "---\n",
        "\n",
        "Use the `grompp` tool of GROMACS. You can run `gmx grompp` with the flag `-h` for listing all the possible options."
      ],
      "metadata": {
        "id": "qXXZbew5PKpu"
      }
    },
    {
      "cell_type": "code",
      "source": [
        "#Try yourself!\n",
        "#Uncomment to run\n",
        "\n",
        "#!gmx grompp ..."
      ],
      "metadata": {
        "id": "hAq-2Z1_NgoM"
      },
      "execution_count": null,
      "outputs": []
    },
    {
      "cell_type": "code",
      "source": [
        "# @title Solution\n",
        "\n",
        "!gmx grompp -f ../em.mdp -c system_neutralized.gro -p top.top -n index.ndx -o em.tpr -maxwarn 2"
      ],
      "metadata": {
        "collapsed": true,
        "id": "OoYi1KyMRe8g",
        "cellView": "form"
      },
      "execution_count": null,
      "outputs": []
    },
    {
      "cell_type": "markdown",
      "source": [
        "Run now the minimization with:"
      ],
      "metadata": {
        "id": "T2U5qG9vSFqz"
      }
    },
    {
      "cell_type": "code",
      "source": [
        "!gmx mdrun -v -deffnm em"
      ],
      "metadata": {
        "id": "WzThnar7RvOM"
      },
      "execution_count": null,
      "outputs": []
    },
    {
      "cell_type": "markdown",
      "source": [
        "#### Equilibration"
      ],
      "metadata": {
        "id": "W_R4dnw4T09B"
      }
    },
    {
      "cell_type": "markdown",
      "source": [
        "We will now equilibrate the system using the file `../eq.mdp`. You can donwload it and check it with a text editor. Note that we wiil use a semiisotropic pressure coupling (isotropic in the x and y direction, but different in the z direction), something typical when we work with membranes.\n",
        "\n",
        "\n",
        "---\n",
        "\n",
        "\n",
        "Let's create the *tpr* file (`eq.tpr`), and remember to include the `index.ndx` file:"
      ],
      "metadata": {
        "id": "e6XFMsFUUU4M"
      }
    },
    {
      "cell_type": "code",
      "source": [
        "#Try yourself!\n",
        "#Uncomment to run\n",
        "\n",
        "#!gmx grompp -f ../eq.mdp ..."
      ],
      "metadata": {
        "id": "1EMF_d7T-McY"
      },
      "execution_count": null,
      "outputs": []
    },
    {
      "cell_type": "code",
      "source": [
        "# @title Solution\n",
        "\n",
        "!gmx grompp -f ../eq.mdp -c em.gro -p top.top -n index.ndx -o eq.tpr -maxwarn 2"
      ],
      "metadata": {
        "id": "wX8MX8fL-T_l",
        "cellView": "form"
      },
      "execution_count": null,
      "outputs": []
    },
    {
      "cell_type": "markdown",
      "source": [
        "Run now the equilibration:"
      ],
      "metadata": {
        "id": "k00vTzHqXUq9"
      }
    },
    {
      "cell_type": "code",
      "source": [
        "!gmx mdrun -v -deffnm eq"
      ],
      "metadata": {
        "id": "OjYehVWCXXDq"
      },
      "execution_count": null,
      "outputs": []
    },
    {
      "cell_type": "markdown",
      "source": [
        "#### Production"
      ],
      "metadata": {
        "id": "gIHoVBfdXhFa"
      }
    },
    {
      "cell_type": "markdown",
      "source": [
        "Finally, we can create the `.tpr` and run the production using the `md.mdp` file."
      ],
      "metadata": {
        "id": "scKHFtF9X5BL"
      }
    },
    {
      "cell_type": "code",
      "source": [
        "#Try yourself!\n",
        "#Uncomment to run\n",
        "\n",
        "#!gmx grompp ..."
      ],
      "metadata": {
        "id": "7dGdi7ADXy9v"
      },
      "execution_count": null,
      "outputs": []
    },
    {
      "cell_type": "code",
      "source": [
        "# @title Solution\n",
        "\n",
        "!gmx grompp -f ../md.mdp -p top.top -c eq.gro -n index.ndx -o md.tpr"
      ],
      "metadata": {
        "id": "_IYA16AiYf1c",
        "cellView": "form"
      },
      "execution_count": null,
      "outputs": []
    },
    {
      "cell_type": "markdown",
      "source": [
        "Since this step is quite computationally expensive, we'll take the trajectory file (md.xtc) from the worked directory (also, some additional files to avoid incompatibilities)."
      ],
      "metadata": {
        "id": "un7PvfCsI2fJ"
      }
    },
    {
      "cell_type": "code",
      "source": [
        "!cp /content/worked/POPC/md.xtc .\n",
        "!cp /content/worked/POPC/index.ndx .\n",
        "!cp /content/worked/POPC/md.gro .\n",
        "!cp /content/worked/POPC/md.tpr ."
      ],
      "metadata": {
        "id": "2AqKWLxNI-6L"
      },
      "execution_count": null,
      "outputs": []
    },
    {
      "cell_type": "markdown",
      "source": [
        "### POPC-POPG 3:1 membrane\n",
        "Now, try to do it yourself with the other membrane!"
      ],
      "metadata": {
        "id": "G_NyP8hmIfq1"
      }
    },
    {
      "cell_type": "code",
      "source": [
        "%cd /content/minimal/POPC-POPG_31/"
      ],
      "metadata": {
        "id": "J_SdoNiZJRSB"
      },
      "execution_count": null,
      "outputs": []
    },
    {
      "cell_type": "markdown",
      "source": [
        "#### Energy minimization"
      ],
      "metadata": {
        "id": "sV0Syv2-IkcK"
      }
    },
    {
      "cell_type": "code",
      "source": [
        "# Create the em.tpr file\n",
        "\n",
        "!gmx"
      ],
      "metadata": {
        "id": "aogfmJ9jLMHg"
      },
      "execution_count": null,
      "outputs": []
    },
    {
      "cell_type": "code",
      "source": [
        "# @title Solution\n",
        "\n",
        "!gmx grompp -f ../em.mdp -c system_neutralized.gro -p top.top -n index.ndx -o em.tpr -maxwarn 2"
      ],
      "metadata": {
        "id": "dOcO8wy8Lsfy",
        "cellView": "form"
      },
      "execution_count": null,
      "outputs": []
    },
    {
      "cell_type": "code",
      "source": [
        "# Run the minimization\n",
        "\n",
        "!gmx"
      ],
      "metadata": {
        "id": "dJBXprgmL7-5"
      },
      "execution_count": null,
      "outputs": []
    },
    {
      "cell_type": "code",
      "source": [
        "# @title Solution\n",
        "\n",
        "!gmx mdrun -v -deffnm em"
      ],
      "metadata": {
        "id": "TtFCH8VWAfFx",
        "cellView": "form"
      },
      "execution_count": null,
      "outputs": []
    },
    {
      "cell_type": "markdown",
      "source": [
        "#### Equilibration"
      ],
      "metadata": {
        "id": "aclhVtEGIm-j"
      }
    },
    {
      "cell_type": "code",
      "source": [
        "#Create the eq.tpr file\n",
        "\n",
        "!gmx"
      ],
      "metadata": {
        "id": "uxO9YeC4LzT6"
      },
      "execution_count": null,
      "outputs": []
    },
    {
      "cell_type": "code",
      "source": [
        "# @title Solution\n",
        "\n",
        "!gmx grompp -f ../eq.mdp -c em.gro -p top.top -n index.ndx -o eq.tpr -maxwarn 2"
      ],
      "metadata": {
        "id": "_A7RF4_8LzgZ",
        "cellView": "form"
      },
      "execution_count": null,
      "outputs": []
    },
    {
      "cell_type": "code",
      "source": [
        "#Run the equilibration\n",
        "\n",
        "!gmx"
      ],
      "metadata": {
        "id": "Kw6hkpmCMPQs"
      },
      "execution_count": null,
      "outputs": []
    },
    {
      "cell_type": "code",
      "source": [
        "# @title Solution\n",
        "\n",
        "!gmx mdrun -v -deffnm eq"
      ],
      "metadata": {
        "id": "cwOev3piMRxG",
        "cellView": "form"
      },
      "execution_count": null,
      "outputs": []
    },
    {
      "cell_type": "markdown",
      "source": [
        "#### Production"
      ],
      "metadata": {
        "id": "W2QqVsc4Ipf9"
      }
    },
    {
      "cell_type": "code",
      "source": [
        "#Create the md.tpr file\n",
        "\n",
        "!gmx"
      ],
      "metadata": {
        "id": "UptntwG6Mmwp"
      },
      "execution_count": null,
      "outputs": []
    },
    {
      "cell_type": "code",
      "source": [
        "# @title Solution\n",
        "\n",
        "!gmx grompp -f ../md.mdp -p top.top -c eq.gro -n index.ndx -o md.tpr"
      ],
      "metadata": {
        "id": "4MjwiXXnMm8H",
        "cellView": "form"
      },
      "execution_count": null,
      "outputs": []
    },
    {
      "cell_type": "markdown",
      "source": [
        "Don't run the production, let's copy the files from the worked directory:"
      ],
      "metadata": {
        "id": "J0Ntgsb7M19C"
      }
    },
    {
      "cell_type": "code",
      "source": [
        "!cp /content/worked/POPC-POPG_31/md.xtc .\n",
        "!cp /content/worked/POPC-POPG_31/index.ndx .\n",
        "!cp /content/worked/POPC-POPG_31/md.gro .\n",
        "!cp /content/worked/POPC-POPG_31/md.tpr ."
      ],
      "metadata": {
        "id": "zHf5hglnM1WM"
      },
      "execution_count": null,
      "outputs": []
    },
    {
      "cell_type": "markdown",
      "source": [
        "## Step 4 - Analysis\n",
        "\n",
        "We're going to make some adjustments to the trajectory and perform some analyses. After that, we will visualize the results."
      ],
      "metadata": {
        "id": "GqKxdlqIY8qK"
      }
    },
    {
      "cell_type": "markdown",
      "source": [
        "### POPC membrane\n",
        "\n",
        "Let's start this section analysing the POPC membrane trajectory:"
      ],
      "metadata": {
        "id": "rEc4U0IzNd1J"
      }
    },
    {
      "cell_type": "code",
      "source": [
        "%cd /content/minimal/POPC/"
      ],
      "metadata": {
        "id": "7MW0BOfBNtqJ"
      },
      "execution_count": null,
      "outputs": []
    },
    {
      "cell_type": "markdown",
      "source": [
        "#### Trajectory processing\n",
        "\n",
        "Let's remove the water and ions and make all molecules whole:"
      ],
      "metadata": {
        "id": "CaqhVnLuZSmd"
      }
    },
    {
      "cell_type": "code",
      "source": [
        "%%bash\n",
        "echo 'Bilayer_Protein' | gmx trjconv -f md.xtc -s md.tpr -pbc whole -o md_pbc.xtc -n index.ndx"
      ],
      "metadata": {
        "id": "ayZSugAVZH-C"
      },
      "execution_count": null,
      "outputs": []
    },
    {
      "cell_type": "markdown",
      "source": [
        "Let's do the same, but using only the last frame of the simulation:"
      ],
      "metadata": {
        "id": "N8wyXxiWPWqd"
      }
    },
    {
      "cell_type": "code",
      "source": [
        "%%bash\n",
        "echo 'Bilayer_Protein' | gmx trjconv -f md.gro -s md.tpr -pbc whole -o md_pbc.gro -n index.ndx"
      ],
      "metadata": {
        "id": "qU_WfinePy7o"
      },
      "execution_count": null,
      "outputs": []
    },
    {
      "cell_type": "markdown",
      "source": [
        "Let's convert the production tpr file into another with fewer atoms compatibl with our centered trajectory (since we now ignore the solvent)."
      ],
      "metadata": {
        "id": "pSN-PBBiae8u"
      }
    },
    {
      "cell_type": "code",
      "source": [
        "%%bash\n",
        "echo 'Bilayer_Protein' | gmx convert-tpr -s md.tpr -n index.ndx -o md_pbc.tpr"
      ],
      "metadata": {
        "id": "hQITw13Wa8pZ"
      },
      "execution_count": null,
      "outputs": []
    },
    {
      "cell_type": "markdown",
      "source": [
        "#### Lipid contacts counting"
      ],
      "metadata": {
        "id": "qAFpEnS7dTiA"
      }
    },
    {
      "cell_type": "markdown",
      "source": [
        "To count contacts we first get a list of closest distances between any lipid and any AMP over time, using `gmx mindist`. Display first the help options with the `-h` flag."
      ],
      "metadata": {
        "id": "9JkSCe-BdmpY"
      }
    },
    {
      "cell_type": "code",
      "source": [
        "!gmx mindist -h"
      ],
      "metadata": {
        "id": "9k4YrNWUdC9g"
      },
      "execution_count": null,
      "outputs": []
    },
    {
      "cell_type": "markdown",
      "source": [
        "Try now to calculate the contacts using `gmx mindist`. You will need to choose the options `Protein` and `non-Protein` (since there are not water or ions). Moreover, use the flag `-group` (check in the info what it does). Name the output `contacts_amp-bilayer.xvg` using the flag `-o`."
      ],
      "metadata": {
        "id": "1pFgNjYid0OA"
      }
    },
    {
      "cell_type": "code",
      "source": [
        "#Try yourself!\n",
        "#Uncomment to run\n",
        "\n",
        "#%%bash\n",
        "#echo 'Protein' 'non-Protein' | gmx mindist ..."
      ],
      "metadata": {
        "id": "X0ga9Gaxd7__"
      },
      "execution_count": null,
      "outputs": []
    },
    {
      "cell_type": "code",
      "source": [
        "# @title Solution\n",
        "\n",
        "%%bash\n",
        "\n",
        "echo 'Protein' 'non-Protein' | gmx mindist -s md_pbc.tpr -f md_pbc.xtc -on contacts_amp-bilayer.xvg -group"
      ],
      "metadata": {
        "id": "1hyTeOETd_vy",
        "cellView": "form"
      },
      "execution_count": null,
      "outputs": []
    },
    {
      "cell_type": "markdown",
      "source": [
        "### POPC-POPG 3:1 membrane\n",
        "Now, let's do it with the other membrane."
      ],
      "metadata": {
        "id": "BGj1qyHoE4kM"
      }
    },
    {
      "cell_type": "code",
      "source": [
        "%cd /content/minimal/POPC-POPG_31/"
      ],
      "metadata": {
        "id": "0bje-XZsE9p0"
      },
      "execution_count": null,
      "outputs": []
    },
    {
      "cell_type": "markdown",
      "source": [
        "##### Trajectory processing"
      ],
      "metadata": {
        "id": "vnR_X4aHG50M"
      }
    },
    {
      "cell_type": "markdown",
      "source": [
        "Let's remove the waters and ions and make molecules whole. We will also do the same for just one frame and create a new `.tpr` file compatible with the treated trajectory."
      ],
      "metadata": {
        "id": "R4ecALFQFBpA"
      }
    },
    {
      "cell_type": "code",
      "source": [
        "%%bash\n",
        "echo 'Bilayer_Protein' | gmx trjconv -f md.xtc -s md.tpr -pbc whole -o md_pbc.xtc -n index.ndx\n",
        "echo 'Bilayer_Protein' | gmx trjconv -f md.gro -s md.tpr -pbc whole -o md_pbc.gro -n index.ndx\n",
        "echo 'Bilayer_Protein' | gmx convert-tpr -s md.tpr -n index.ndx -o md_pbc.tpr"
      ],
      "metadata": {
        "id": "UFAuzS63GEaZ"
      },
      "execution_count": null,
      "outputs": []
    },
    {
      "cell_type": "markdown",
      "source": [
        "##### Lipid conctacts counting"
      ],
      "metadata": {
        "id": "NVaPb7kgG-xG"
      }
    },
    {
      "cell_type": "markdown",
      "source": [
        "And now let's calculate the number of contacts. Do you think you'd be able to do it yourself? Give it a try!"
      ],
      "metadata": {
        "id": "dy_EYg6BGROc"
      }
    },
    {
      "cell_type": "code",
      "source": [
        "#Try yourself!\n",
        "#Uncomment to run\n",
        "\n",
        "#%%bash\n",
        "#echo 'Protein' 'non-Protein' | gmx mindist ...  -o contacts_amp-bilayer.xvg"
      ],
      "metadata": {
        "id": "stJJnwM2GXTo"
      },
      "execution_count": null,
      "outputs": []
    },
    {
      "cell_type": "code",
      "source": [
        "# @title Solution\n",
        "\n",
        "%%bash\n",
        "\n",
        "echo 'Protein' 'non-Protein' | gmx mindist -s md_pbc.tpr -f md_pbc.xtc -on contacts_amp-bilayer.xvg -group"
      ],
      "metadata": {
        "id": "Du3HqEiVGoL8",
        "cellView": "form"
      },
      "execution_count": null,
      "outputs": []
    },
    {
      "cell_type": "markdown",
      "source": [
        "### Visualize the last frame"
      ],
      "metadata": {
        "id": "JCMzTxKfNa_w"
      }
    },
    {
      "cell_type": "markdown",
      "source": [
        "Let's start by visualizing the last structure of the simulations. Go to the main directory."
      ],
      "metadata": {
        "id": "Wlu5V0aKNe2P"
      }
    },
    {
      "cell_type": "code",
      "source": [
        "%cd /content/minimal/"
      ],
      "metadata": {
        "id": "0Xs5vozSPBTv"
      },
      "execution_count": null,
      "outputs": []
    },
    {
      "cell_type": "markdown",
      "source": [
        "First, the one with POPC:"
      ],
      "metadata": {
        "id": "QY1CxdJoO7Zl"
      }
    },
    {
      "cell_type": "code",
      "source": [
        "view_membrane_PC = nv.NGLWidget()\n",
        "view_membrane_PC.add_component(nv.FileStructure('/content/minimal/POPC/md_pbc.gro'))\n",
        "view_membrane_PC.add_representation('tube', selection='protein', radius=1)\n",
        "view_membrane_PC.add_representation('surface', selection='POPC', color='grey')\n",
        "view_membrane_PC"
      ],
      "metadata": {
        "id": "ULUiUqMKN1Ua"
      },
      "execution_count": null,
      "outputs": []
    },
    {
      "cell_type": "markdown",
      "source": [
        "Compare it with the POPC-POPG 3:1 membrane."
      ],
      "metadata": {
        "id": "ouyqBQseN2L8"
      }
    },
    {
      "cell_type": "code",
      "source": [
        "view_membrane_PCPG = nv.NGLWidget()\n",
        "view_membrane_PCPG.add_component(nv.FileStructure('/content/minimal/POPC-POPG_31/md_pbc.gro'))\n",
        "view_membrane_PCPG.add_representation('tube', selection='protein', radius=1)\n",
        "view_membrane_PCPG.add_representation('surface', selection='POPC', color='grey')\n",
        "view_membrane_PCPG.add_representation('surface', selection='POPG', color='green')\n",
        "view_membrane_PCPG"
      ],
      "metadata": {
        "id": "YeQ_U0CaN7Fi"
      },
      "execution_count": null,
      "outputs": []
    },
    {
      "cell_type": "markdown",
      "source": [
        "Apparently, Mag2 interacts more with the bacterial membrane. However, we are only observing one frame of the trajectory, which might not be representative. Let's visualize the results of the contacts during the entire trajectory to gain more information."
      ],
      "metadata": {
        "id": "9hfMiPX7OiWi"
      }
    },
    {
      "cell_type": "markdown",
      "source": [
        "### Print the contacts\n",
        "\n",
        "After calculating the contacts between the AMPs and the lipids in former sections, we will plot them for visualization. In the main directory we have a Python script called `contacts_vs_time.py`, which will plot the contacts betwen AMPs and lipids per membrane. Run it."
      ],
      "metadata": {
        "id": "ANrY6Iv7HD8O"
      }
    },
    {
      "cell_type": "code",
      "source": [
        "%matplotlib inline"
      ],
      "metadata": {
        "id": "Zc9K36zxrovM"
      },
      "execution_count": null,
      "outputs": []
    },
    {
      "cell_type": "code",
      "source": [
        "!python3 contacts_vs_time.py"
      ],
      "metadata": {
        "id": "ENEGogD-H3T_"
      },
      "execution_count": null,
      "outputs": []
    },
    {
      "cell_type": "markdown",
      "source": [
        "This script will generate an output in PDF format (`contacts_amp-bilayer.pdf`) that you can download. To visualize it in this Colab, run the following cell:"
      ],
      "metadata": {
        "id": "ZQLLRxcitGhC"
      }
    },
    {
      "cell_type": "code",
      "source": [
        "import numpy as np\n",
        "import matplotlib.pyplot as plt\n",
        "\n",
        "POPC = np.loadtxt('POPC/contacts_amp-bilayer.xvg', comments=('@', '#'))\n",
        "POPCPG = np.loadtxt('POPC-POPG_31/contacts_amp-bilayer.xvg', comments=('@', '#'))\n",
        "contacts_POPC = POPC[:,1:]\n",
        "contacts_POPCPG = POPCPG[:,1:]\n",
        "time = len(contacts_POPC)\n",
        "plt.plot(np.arange(1, len(contacts_POPC) + 1), contacts_POPC, label='POPC', color='red')\n",
        "plt.plot(np.arange(1, len(contacts_POPCPG) + 1), contacts_POPCPG, label='POPC-POPG 3:1', color='blue')\n",
        "plt.title('Contacs AMP - Bilayer')\n",
        "plt.legend()\n",
        "plt.xlabel('Time (ns)')\n",
        "plt.ylabel('# contacts')\n",
        "plt.show()"
      ],
      "metadata": {
        "id": "83vIY1SLss1d"
      },
      "execution_count": null,
      "outputs": []
    },
    {
      "cell_type": "markdown",
      "source": [
        "As you can see, the number of contacts is higher in the bacterial membrane model. Do you think Mag2 has antimicrobial potential?"
      ],
      "metadata": {
        "id": "vPi4b66wH483"
      }
    },
    {
      "cell_type": "markdown",
      "source": [
        "### Conclusion\n",
        "Congratulations! You've reached the end of this tutorial! Visit https://cgmartini.nl and continue exploring Martini and Coarse-Grained MD!"
      ],
      "metadata": {
        "id": "AGI0S4fFJR0U"
      }
    }
  ]
}