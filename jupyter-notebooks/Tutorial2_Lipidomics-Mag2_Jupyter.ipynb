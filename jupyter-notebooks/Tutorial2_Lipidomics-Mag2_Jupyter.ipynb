{
 "cells": [
  {
   "cell_type": "markdown",
   "metadata": {
    "id": "DJeXV8L73ajD"
   },
   "source": [
    "# Coarse-grain MD tutorial\n",
    "## Lipidomics study: Mag2 in a POPC and POPC-POPG 3:1 membrane\n",
    "\n",
    "\n",
    "---\n",
    "\n"
   ]
  },
  {
   "cell_type": "markdown",
   "metadata": {
    "id": "td1Gqim4xbJf"
   },
   "source": [
    "### *Tutorial notes*\n",
    "\n",
    "* In this tutorial you'll find two directories. Directory `worked` has all the intermediate steps and results, whereas directory `minimal` has only the essential files to get you going, and you'll have to do most of the work yourself. Feel free to follow the tutorial using either approach, or even a mix of the two.\n",
    "\n",
    "* This tutorial can be run in a Jupyter Lab/Notebook.\n",
    "\n",
    "* Much of the tutorial involves running shell commands. In Colab, this is achieved by prepending an exclamation mark to the command (`!some shell_command`). You can see this exemplified below in the installation. Note that if you need to change directories, the exclamation mark method won't work; you need to use a percent sign, and run the command in its own cell (`%cd target_dir`).\n",
    "\n",
    "* To run any of the following cells of code, you can type **Shift + Enter** to excute the code in a cell.\n"
   ]
  },
  {
   "cell_type": "markdown",
   "metadata": {
    "id": "JmvnpR153NAG"
   },
   "source": [
    "## Step 0 - Downloading and installing of the tutorial software and materials.\n",
    "\n",
    "_The text output of these steps was minimized so as not to overcrowd the notebook. Feel free to take out the `-q` flags or add the `-v` flag to `tar` if you want full output or for debugging purposes._\n",
    "\n",
    "---"
   ]
  },
  {
   "cell_type": "markdown",
   "metadata": {
    "id": "QwEvzGVENBdH"
   },
   "source": [
    "To run this tutorial, it is necessary to have a series of programs and libraries installed:"
   ]
  },
  {
   "cell_type": "markdown",
   "metadata": {},
   "source": [
    "We install some Python packages, and import the ones we'll need:\n",
    "* `GROMACS` as simulation engine\n",
    "* The `vermouth` (provides the `martinize2` script) package from the Martini team\n",
    "* The `MDAnalysis` package\n",
    "* The `nglview` molecular viewer"
   ]
  },
  {
   "cell_type": "markdown",
   "metadata": {},
   "source": [
    "Install required dependencies by executing the following two cells. If they are already installed, comment them to skip this step. "
   ]
  },
  {
   "cell_type": "code",
   "execution_count": null,
   "metadata": {},
   "outputs": [],
   "source": [
    "!conda install -y conda-forge::nglview"
   ]
  },
  {
   "cell_type": "code",
   "execution_count": null,
   "metadata": {},
   "outputs": [],
   "source": [
    "!pip install vermouth insane matplotlib mdanalysis"
   ]
  },
  {
   "cell_type": "code",
   "execution_count": null,
   "metadata": {},
   "outputs": [],
   "source": [
    "#If you don't have GROMACS installed, uncomment (remove #) and run the following lines.\n",
    "\n",
    "#!conda install -y conda-forge::gromacs"
   ]
  },
  {
   "cell_type": "markdown",
   "metadata": {
    "id": "Hq5wgt39N4YV"
   },
   "source": [
    "Download and unpack the tutorial's material."
   ]
  },
  {
   "cell_type": "code",
   "execution_count": null,
   "metadata": {
    "id": "n-sAbFInjqTs"
   },
   "outputs": [],
   "source": [
    "!wget https://zenodo.org/records/13890148/files/2-Tutorial_Lipidomics.zip\n",
    "!unzip 2-Tutorial_Lipidomics.zip"
   ]
  },
  {
   "cell_type": "markdown",
   "metadata": {
    "id": "cXI2_iO3Mv4b"
   },
   "source": [
    "We will start in subdirectory `minimal`, but feel free to change to `worked`."
   ]
  },
  {
   "cell_type": "code",
   "execution_count": null,
   "metadata": {
    "id": "zFwCjDYWysBB"
   },
   "outputs": [],
   "source": [
    "%cd minimal"
   ]
  },
  {
   "cell_type": "markdown",
   "metadata": {
    "id": "ozHNz91IEmXN"
   },
   "source": [
    "## Step 1 - Introduction\n",
    "\n",
    "Antimicrobial peptides (AMPs) play a vital role in the innate immune system of all living organisms.$^{1,2}$ These peptides can identify and disrupt lipid patterns in bacterial membranes without harming healthy cells.$^{3}$ Notably, AMPs often possess shared properties: they typically consist of 10–40 residues, adopt an α-helix secondary structure when they interact with membranes, maintain a positive net charge, and contain a significant number of non-polar residues. These features, along with their pronounced transversal hydrophobic moment in their folded state, facilitate interactions with lipid bilayers. Thus, the use of these molecules as therapeutic agents is an obvious lesson\n",
    "from Nature that can be exploited to design new antibiotics, anticancer or antiaging drugs.$^{4}$\n",
    "\n",
    "In this tutorial, we will investigate the potential antimicrobial properties of Magainin-II (Mag2), one of the most well-known natural AMPs.$^{5}$ We will simulate it in the presence of two different membrane models: one representing a healthy membrane (POPC), and the other a bacterial bilayer (POPC-POPG 3:1). We’ll place several AMPs in the aqueous phase of our systems and run simulations, analysing potential spontaneous peptide-bilayer interactions.\n",
    "\n",
    "\n",
    "1. Lancet Infect Dis. 9, e216; doi: 10.1016/S1473-3099(20)30327-3 (2020)\n",
    "\n",
    "1. Front. Microbiol. 11; doi: 10.3389/fmicb.2020.582779 (2020)\n",
    "\n",
    "1. Colloids Surf. B Biointerfaces 196, 111349; doi: 10.1016/j.colsurfb.2020.111349 (2020)\n",
    "1. Front. Immunol. 15, doi: 10.3389/fimmu.2024.1320779 (2024)\n",
    "1. BBA. 1327, 119; doi: 10.1016/S0005-2736(97)00051-5 (1997)"
   ]
  },
  {
   "cell_type": "markdown",
   "metadata": {
    "id": "QJY8CWwKZK1C"
   },
   "source": [
    "## Step 2 - System preparation\n"
   ]
  },
  {
   "cell_type": "markdown",
   "metadata": {
    "id": "FMxpj5nYUFK7"
   },
   "source": [
    "In your directories you'll find Mag2.pdb file, containing a α-helix structure of the Magainin II peptide.\n",
    "\n",
    "Before coarse graining anything we visualize our starting protein structure using nglview. Other viewers, such as pymol or VMD are also great, if you run this workflow outside Colab."
   ]
  },
  {
   "cell_type": "code",
   "execution_count": null,
   "metadata": {
    "id": "P5G3fqWXZMQG"
   },
   "outputs": [],
   "source": [
    "import nglview as nv\n",
    "\n",
    "view = nv.NGLWidget()\n",
    "at = view.add_component(nv.FileStructure('Mag2.pdb'))\n",
    "view"
   ]
  },
  {
   "cell_type": "markdown",
   "metadata": {
    "id": "0iOQXHvrwH0P"
   },
   "source": [
    "### Coarse-graining with `martinize2`\n",
    "\n",
    "For CG MD simulation of a protein one needs the CG coordinates and the CG topology. Both can be obtained with the `martinize2` tool (despite its name, it works with Martini 3).\n",
    "\n",
    "---\n",
    "\n",
    "You'll need to:\n",
    "* specify `Mag2.pdb` as the input structure;\n",
    "* specify an output CG structure (let's call it `Mag2_cg.pdb`);\n",
    "* specify an output `.top` topology master file (let's call it `topol.top`);\n",
    "* specify the target forcefield. Martini 3 has code `martini3001`;\n",
    "* ask for an elastic network to be set, restraining secondary/tertiary structure;\n",
    "* ask for fixing some issues with the excess of flexible side-chain behaviour;\n",
    "* we don't need DSSP in this case, since we will assume directly that the peptide will adopt an alpha-helix structure. You can provide directly the secondary structure with the flag `-ss HHHHHHHHHHHHHHHHHHHHHHH`;"
   ]
  },
  {
   "cell_type": "code",
   "execution_count": null,
   "metadata": {
    "id": "GOuDx3X60bEy"
   },
   "outputs": [],
   "source": [
    "#Try yourself!\n",
    "#Uncomment to run\n",
    "\n",
    "#!martinize2 -f ..."
   ]
  },
  {
   "cell_type": "markdown",
   "metadata": {},
   "source": [
    "<details>\n",
    "\n",
    "<summary>Answer</summary>\n",
    "\n",
    "!martinize2 -f Mag2.pdb -x Mag2_cg.pdb -o topol.top -ff martini3001 -elastic -scfix -ss 'HHHHHHHHHHHHHHHHHHHHHHH'"
   ]
  },
  {
   "cell_type": "markdown",
   "metadata": {
    "id": "NluM51lezlOG"
   },
   "source": [
    "Have a look at the produced files with and editor or a molecular structure visualizer. Observe the atomic structure and the CG beads overlaid (in white and yellow spheres)."
   ]
  },
  {
   "cell_type": "code",
   "execution_count": null,
   "metadata": {
    "id": "jR4dE49_va3J"
   },
   "outputs": [],
   "source": [
    "view.remove_component(at)"
   ]
  },
  {
   "cell_type": "code",
   "execution_count": null,
   "metadata": {
    "id": "UaU0GqA7CCr_"
   },
   "outputs": [],
   "source": [
    "aa = nv.FileStructure('Mag2.pdb')\n",
    "cg = nv.FileStructure('Mag2_cg.pdb')\n",
    "\n",
    "view.add_component(aa, default=False)\n",
    "view.add_component(cg, default=False)\n",
    "\n",
    "view.clear_representations(component=0)\n",
    "view.clear_representations(component=1)\n",
    "\n",
    "view.add_licorice(selection='Protein', component=0)\n",
    "view.add_ball_and_stick(aspectRatio=7.5, opacity=0.45, component=1)\n",
    "\n",
    "view.center()\n",
    "view"
   ]
  },
  {
   "cell_type": "markdown",
   "metadata": {
    "id": "0R5KsQK6BHC8"
   },
   "source": [
    "### POPC membrane\n",
    "Let's continue with the tutorial. The steps are the same for both membranes. Let's start with the `POPC` one:"
   ]
  },
  {
   "cell_type": "code",
   "execution_count": null,
   "metadata": {
    "id": "XhUVW6GRHVD1"
   },
   "outputs": [],
   "source": [
    "%cd POPC"
   ]
  },
  {
   "cell_type": "markdown",
   "metadata": {
    "id": "8Ub-wi3mzqK_"
   },
   "source": [
    "#### Insert Mag2 peptides\n",
    "\n",
    "The first step will be to insert some Mag2 peptides into our system (let’s add 10, but feel free to choose a different number if you prefer). For this, we’ll use the gmx insert-molecules command from GROMACS. Execute it with the flag -h for having more info.\n"
   ]
  },
  {
   "cell_type": "code",
   "execution_count": null,
   "metadata": {
    "id": "GGJ4KuHL3C6k"
   },
   "outputs": [],
   "source": [
    "!gmx insert-molecules -h"
   ]
  },
  {
   "cell_type": "markdown",
   "metadata": {
    "id": "Gxc0Wttc58OA"
   },
   "source": [
    "We have a POPC membrane in water box already equilibrated in a file called `POPC.gro`. Let’s place the peptides in the aqueous phase. In this way, we’ll see if they spontaneously interact with the membrane. We can do this by instructing `gmx insert-molecules` to remove water molecules (`W`) to make room for our peptide (use the option `-replace`).\n",
    "Take into account that the CG coordinates of Mag2 are in the previous directory, so we need to write **../** before the file name (`../Mag2_cg.pdb`).\n",
    "Let's call the output `system.gro`. Try yourself!"
   ]
  },
  {
   "cell_type": "code",
   "execution_count": null,
   "metadata": {
    "id": "TKDP5Xpc6Ras"
   },
   "outputs": [],
   "source": [
    "#Try yourself!\n",
    "#Uncomment to run\n",
    "\n",
    "#!gmx insert-molecules -f ... -ci .../... -nmol ... -o system.gro -replace W -try 100"
   ]
  },
  {
   "cell_type": "markdown",
   "metadata": {},
   "source": [
    "<details>\n",
    "\n",
    "<summary>Answer</summary>\n",
    "\n",
    "!gmx insert-molecules -f POPC.gro -ci ../Mag2_cg.pdb -nmol 10 -o system.gro -replace W -try 100"
   ]
  },
  {
   "cell_type": "markdown",
   "metadata": {},
   "source": [
    "Visualize the system:"
   ]
  },
  {
   "cell_type": "code",
   "execution_count": null,
   "metadata": {
    "id": "tDDmt3AvByXc"
   },
   "outputs": [],
   "source": [
    "view_membrane_prot = nv.NGLWidget()\n",
    "view_membrane_prot.add_component(nv.FileStructure('system.gro'))\n",
    "view_membrane_prot.add_representation('tube', selection='protein', radius=1)\n",
    "view_membrane_prot.add_representation('surface', selection='POPC', color='grey')\n",
    "view_membrane_prot"
   ]
  },
  {
   "cell_type": "markdown",
   "metadata": {
    "id": "5J59aSDdGEqz"
   },
   "source": [
    "#### Update topology (1)\n",
    "\n",
    "The file `initial_top.top` is a good start, but we need to complete it. Specifically, we need to add the number of W, CL, NA, and peptides in the system. The first step is to create a copy of the file `initial_top.top` (let's call this new file `top.top`).\n",
    "\n",
    "\n",
    "\n"
   ]
  },
  {
   "cell_type": "code",
   "execution_count": null,
   "metadata": {
    "id": "Z2y2UZIWCQHA"
   },
   "outputs": [],
   "source": [
    "!cp initial_top.top top.top"
   ]
  },
  {
   "cell_type": "markdown",
   "metadata": {
    "id": "DgqzwQtFHjwq"
   },
   "source": [
    "We can automatically update the number of W, CL, NA, and peptides molecules by using the python script `update_topology.py`. It will count the number of those molecules in a input file (`system.gro`) and add it directly to a topology file (`top.top`). Run the script like this:"
   ]
  },
  {
   "cell_type": "code",
   "execution_count": null,
   "metadata": {
    "id": "j5ZutAcwMvcp"
   },
   "outputs": [],
   "source": [
    "!python3 ../update_topology.py system.gro top.top"
   ]
  },
  {
   "cell_type": "markdown",
   "metadata": {
    "id": "KlL0_E5AMvtT"
   },
   "source": [
    "Add also a line with the number of peptides inserted:"
   ]
  },
  {
   "cell_type": "code",
   "execution_count": null,
   "metadata": {
    "id": "kTwn7tdkHiJv"
   },
   "outputs": [],
   "source": [
    "%%bash\n",
    "echo \"molecule_0  10\" >> top.top"
   ]
  },
  {
   "cell_type": "markdown",
   "metadata": {
    "id": "ZK5agXup7yvM"
   },
   "source": [
    "#### Neutralize the system\n",
    "\n",
    "MD simulations must be executed with a total net charge of 0. Since Mag2 has a charge of +2, adding the peptides has resulted in an imbalance in the system's charge. We need to fix this. We can do this using the GROMACS tool `gmx genion`. To start, we need to create a *.tpr* file. Generate it by running the following command:\n"
   ]
  },
  {
   "cell_type": "code",
   "execution_count": null,
   "metadata": {
    "id": "OWvxGQtb78ku"
   },
   "outputs": [],
   "source": [
    "!gmx grompp -f ../em.mdp -c system.gro -p top.top -o ions.tpr -maxwarn 1"
   ]
  },
  {
   "cell_type": "markdown",
   "metadata": {
    "id": "6y_bT8Vy7y41"
   },
   "source": [
    "Now let's run the `gmx genion` command. We’ll achieve a neutral charge with the `-neutral` flag and will need to specify which molecules it will replace to add extra ions to balance the charge (water, in this case)."
   ]
  },
  {
   "cell_type": "code",
   "execution_count": null,
   "metadata": {
    "id": "BO2HhI998DrA"
   },
   "outputs": [],
   "source": [
    "%%bash\n",
    "echo \"W\" | gmx genion -s ions.tpr -neutral -o system_neutralized.gro"
   ]
  },
  {
   "cell_type": "markdown",
   "metadata": {
    "id": "4p_i_8158DLc"
   },
   "source": [
    "This command will generate a file with the coordinates of the neutralized system called `system_neutralized.gro`."
   ]
  },
  {
   "cell_type": "markdown",
   "metadata": {
    "id": "gkFLIrDp7zCx"
   },
   "source": [
    "#### Update topology (2)\n",
    "\n",
    "Since we’ve changed the number of water molecules and ions when neutralizing the system, we need to update the topology again. Let’s start again from the `initial_top.top` file:"
   ]
  },
  {
   "cell_type": "code",
   "execution_count": null,
   "metadata": {
    "id": "NEFpoxc68T1O"
   },
   "outputs": [],
   "source": [
    "!cp initial_top.top top.top"
   ]
  },
  {
   "cell_type": "markdown",
   "metadata": {
    "id": "hZQ5_DTN8VZQ"
   },
   "source": [
    "And let’s run the `update_topology.py` script again, but this time using `system_neutralized.gro` as the input file."
   ]
  },
  {
   "cell_type": "code",
   "execution_count": null,
   "metadata": {
    "id": "NqqLhBwv8aOq"
   },
   "outputs": [],
   "source": [
    "!python3 ../update_topology.py system_neutralized.gro top.top"
   ]
  },
  {
   "cell_type": "markdown",
   "metadata": {
    "id": "Ri9-nqcl8VkF"
   },
   "source": [
    "Remember to add also a line with the number of peptides:"
   ]
  },
  {
   "cell_type": "code",
   "execution_count": null,
   "metadata": {
    "id": "kINXiYsE8hse"
   },
   "outputs": [],
   "source": [
    "%%bash\n",
    "echo \"molecule_0  10\" >> top.top"
   ]
  },
  {
   "cell_type": "markdown",
   "metadata": {
    "id": "r3fsylvc9BdF"
   },
   "source": [
    "Take a look to the `top.top` file:"
   ]
  },
  {
   "cell_type": "code",
   "execution_count": null,
   "metadata": {
    "id": "Q4fPwcgL9NFO"
   },
   "outputs": [],
   "source": [
    "!cat top.top"
   ]
  },
  {
   "cell_type": "markdown",
   "metadata": {
    "id": "KFxgZGRC8jlz"
   },
   "source": [
    "#### Create and index file\n",
    "\n",
    "Let's create an index file defining the beads that are part of the protein and membrane and those that are part of the solvent. Run first the `gmx make_ndx` command of GROMACS using as input the `system_neutralized.gro` file:\n"
   ]
  },
  {
   "cell_type": "code",
   "execution_count": null,
   "metadata": {
    "id": "xXrWawjz8vnZ"
   },
   "outputs": [],
   "source": [
    "%%bash\n",
    "echo 'q' | gmx make_ndx -f system_neutralized.gro"
   ]
  },
  {
   "cell_type": "markdown",
   "metadata": {
    "id": "BI2j58dd8js8"
   },
   "source": [
    "Using the `create_index.py` script, we’ll create 3 groups:\n",
    "* Bilayer: beads of the membrane.\n",
    "* Bilayer_Protein: beads of the membrane and the AMPs. We’ll use this for analysis.\n",
    "* Solvent: Water and ions.\n",
    "\n",
    "Run the script:"
   ]
  },
  {
   "cell_type": "code",
   "execution_count": null,
   "metadata": {
    "id": "sepf4vg184Zn"
   },
   "outputs": [],
   "source": [
    "!python3 ../create_index.py system_neutralized.gro"
   ]
  },
  {
   "cell_type": "markdown",
   "metadata": {
    "id": "RfNdXxpzBbsG"
   },
   "source": [
    "### POPC-POPG 3:1 membrane\n",
    "As we said, in this tutorial we are going to simulate two membranes. Now that you have seen how to prepare the system for one of them, try preparing the other one yourself!"
   ]
  },
  {
   "cell_type": "code",
   "execution_count": null,
   "metadata": {
    "id": "o7O8j9J-DdWE"
   },
   "outputs": [],
   "source": [
    "%cd ../POPC-POPG_31/"
   ]
  },
  {
   "cell_type": "markdown",
   "metadata": {
    "id": "Wu9WN3JTEF6O"
   },
   "source": [
    "#### Insert Mag2 peptides\n",
    "\n",
    "Take into account that now our membrane file is called `POPC-POPG_31.gro`."
   ]
  },
  {
   "cell_type": "code",
   "execution_count": null,
   "metadata": {
    "id": "KhPfwLhWEIWy"
   },
   "outputs": [],
   "source": [
    "# Complete it\n",
    "\n",
    "!gmx insert-molecules"
   ]
  },
  {
   "cell_type": "markdown",
   "metadata": {},
   "source": [
    "<details>\n",
    "\n",
    "<summary>Answer</summary>\n",
    "\n",
    "!gmx insert-molecules -f POPC-POPG_31.gro -ci ../Mag2_cg.pdb -nmol 10 -o system.gro -replace W -try 100 "
   ]
  },
  {
   "cell_type": "markdown",
   "metadata": {
    "id": "DVvVsEMsBfLt"
   },
   "source": [
    "#### Update topology (1)"
   ]
  },
  {
   "cell_type": "code",
   "execution_count": null,
   "metadata": {
    "id": "DISKITdkFCQm"
   },
   "outputs": [],
   "source": [
    "!cp initial_top.top top.top"
   ]
  },
  {
   "cell_type": "code",
   "execution_count": null,
   "metadata": {
    "id": "uXZZb60KFFFI"
   },
   "outputs": [],
   "source": [
    "!python3 ../update_topology.py system.gro top.top"
   ]
  },
  {
   "cell_type": "code",
   "execution_count": null,
   "metadata": {
    "id": "trMhZcytFHvw"
   },
   "outputs": [],
   "source": [
    "%%bash\n",
    "echo \"molecule_0  10\" >> top.top"
   ]
  },
  {
   "cell_type": "markdown",
   "metadata": {
    "id": "wMWU6fyfFBiG"
   },
   "source": [
    "#### Neutralize the system"
   ]
  },
  {
   "cell_type": "code",
   "execution_count": null,
   "metadata": {
    "id": "pnZsfs5SFOmb"
   },
   "outputs": [],
   "source": [
    "# Complete it\n",
    "\n",
    "!gmx grompp -f ../em.mdp"
   ]
  },
  {
   "cell_type": "markdown",
   "metadata": {},
   "source": [
    "<details>\n",
    "\n",
    "<summary>Answer</summary>\n",
    "\n",
    "!gmx grompp -f ../em.mdp -c system.gro -p top.top -o ions.tpr -maxwarn 1"
   ]
  },
  {
   "cell_type": "code",
   "execution_count": null,
   "metadata": {
    "id": "_NclY-B-AH3B"
   },
   "outputs": [],
   "source": [
    "%%bash\n",
    "# echo ... | !gmx genion"
   ]
  },
  {
   "cell_type": "markdown",
   "metadata": {},
   "source": [
    "<details>\n",
    "\n",
    "<summary>Answer</summary>\n",
    "\n",
    "%%bash\n",
    "\n",
    "echo \"W\" | gmx genion -s ions.tpr -neutral -o system_neutralized.gro"
   ]
  },
  {
   "cell_type": "markdown",
   "metadata": {
    "id": "EBLKBhNNGGxR"
   },
   "source": [
    "#### Update topology (2)"
   ]
  },
  {
   "cell_type": "code",
   "execution_count": null,
   "metadata": {
    "id": "nNhfVqGMGJvq"
   },
   "outputs": [],
   "source": [
    "!cp initial_top.top top.top"
   ]
  },
  {
   "cell_type": "code",
   "execution_count": null,
   "metadata": {
    "id": "Bv-ef9TeGN50"
   },
   "outputs": [],
   "source": [
    "!python3 ../update_topology.py system_neutralized.gro top.top"
   ]
  },
  {
   "cell_type": "code",
   "execution_count": null,
   "metadata": {
    "id": "Ac_hOnIRGQzt"
   },
   "outputs": [],
   "source": [
    "%%bash\n",
    "echo \"molecule_0  10\" >> top.top"
   ]
  },
  {
   "cell_type": "markdown",
   "metadata": {
    "id": "YNFIEuGWGUgY"
   },
   "source": [
    "#### Create index file"
   ]
  },
  {
   "cell_type": "code",
   "execution_count": null,
   "metadata": {
    "id": "AQ3vJZU5GYeO"
   },
   "outputs": [],
   "source": [
    "%%bash\n",
    "echo 'q' | gmx make_ndx -f system_neutralized.gro"
   ]
  },
  {
   "cell_type": "code",
   "execution_count": null,
   "metadata": {
    "id": "eK4HCCAKGZoh"
   },
   "outputs": [],
   "source": [
    "!python3 ../create_index.py system_neutralized.gro"
   ]
  },
  {
   "cell_type": "markdown",
   "metadata": {
    "id": "kz2dk2dPNnAB"
   },
   "source": [
    "## Step 3 - Simulation\n",
    "\n",
    "You can now run the simulations. In CG it is enough to perform a short energy\n",
    "minimization and a single pressure/temperature equilibration step before production. In GROMACS, we need to use the command `gmx grompp` to create a processed binary file (with the extension `.tpr`) for running minimization/MD calculations. The instructions for the calculation are in `.mdp` files. Again, let's start with the POPC membrane:"
   ]
  },
  {
   "cell_type": "markdown",
   "metadata": {
    "id": "fMK0WSzZHl7m"
   },
   "source": [
    "### POPC membrane\n"
   ]
  },
  {
   "cell_type": "code",
   "execution_count": null,
   "metadata": {
    "id": "ulUAW0t_HsKD"
   },
   "outputs": [],
   "source": [
    "%cd ../POPC/"
   ]
  },
  {
   "cell_type": "markdown",
   "metadata": {
    "id": "jpJB6_SBO6Xj"
   },
   "source": [
    "#### Energy minimization"
   ]
  },
  {
   "cell_type": "markdown",
   "metadata": {
    "id": "qXXZbew5PKpu"
   },
   "source": [
    "Let's create the tpr file (`em.tpr`) to perform the energy minimization. You will need a *mdp* file, available in the previous directory (`../em.mdp`). Open it with a text editor to check it.\n",
    "\n",
    "---\n",
    "\n",
    "Use the `grompp` tool of GROMACS. You can run `gmx grompp` with the flag `-h` for listing all the possible options."
   ]
  },
  {
   "cell_type": "code",
   "execution_count": null,
   "metadata": {
    "id": "hAq-2Z1_NgoM"
   },
   "outputs": [],
   "source": [
    "#Try yourself!\n",
    "#Uncomment to run\n",
    "\n",
    "#!gmx grompp ..."
   ]
  },
  {
   "cell_type": "markdown",
   "metadata": {},
   "source": [
    "<details>\n",
    "\n",
    "<summary>Answer</summary>\n",
    "\n",
    "!gmx grompp -f ../em.mdp -c system_neutralized.gro -p top.top -n index.ndx -o em.tpr -maxwarn 2"
   ]
  },
  {
   "cell_type": "markdown",
   "metadata": {
    "id": "T2U5qG9vSFqz"
   },
   "source": [
    "Run now the minimization with:"
   ]
  },
  {
   "cell_type": "code",
   "execution_count": null,
   "metadata": {
    "id": "WzThnar7RvOM"
   },
   "outputs": [],
   "source": [
    "!gmx mdrun -v -deffnm em"
   ]
  },
  {
   "cell_type": "markdown",
   "metadata": {
    "id": "W_R4dnw4T09B"
   },
   "source": [
    "#### Equilibration"
   ]
  },
  {
   "cell_type": "markdown",
   "metadata": {
    "id": "e6XFMsFUUU4M"
   },
   "source": [
    "We will now equilibrate the system using the file `../eq.mdp`. You can donwload it and check it with a text editor. Note that we wiil use a semiisotropic pressure coupling (isotropic in the x and y direction, but different in the z direction), something typical when we work with membranes.\n",
    "\n",
    "\n",
    "---\n",
    "\n",
    "\n",
    "Let's create the *tpr* file (`eq.tpr`), and remember to include the `index.ndx` file:"
   ]
  },
  {
   "cell_type": "code",
   "execution_count": null,
   "metadata": {
    "id": "1EMF_d7T-McY"
   },
   "outputs": [],
   "source": [
    "#Try yourself!\n",
    "#Uncomment to run\n",
    "\n",
    "#!gmx grompp -f ../eq.mdp ..."
   ]
  },
  {
   "cell_type": "markdown",
   "metadata": {},
   "source": [
    "<details>\n",
    "\n",
    "<summary>Answer</summary>\n",
    "\n",
    "!gmx grompp -f ../eq.mdp -c em.gro -p top.top -n index.ndx -o eq.tpr -maxwarn 2"
   ]
  },
  {
   "cell_type": "markdown",
   "metadata": {
    "id": "k00vTzHqXUq9"
   },
   "source": [
    "Run now the equilibration:"
   ]
  },
  {
   "cell_type": "code",
   "execution_count": null,
   "metadata": {
    "id": "OjYehVWCXXDq"
   },
   "outputs": [],
   "source": [
    "!gmx mdrun -v -deffnm eq"
   ]
  },
  {
   "cell_type": "markdown",
   "metadata": {
    "id": "gIHoVBfdXhFa"
   },
   "source": [
    "#### Production"
   ]
  },
  {
   "cell_type": "markdown",
   "metadata": {
    "id": "scKHFtF9X5BL"
   },
   "source": [
    "Finally, we can create the `.tpr` and run the production using the `md.mdp` file."
   ]
  },
  {
   "cell_type": "code",
   "execution_count": null,
   "metadata": {
    "id": "7dGdi7ADXy9v"
   },
   "outputs": [],
   "source": [
    "#Try yourself!\n",
    "#Uncomment to run\n",
    "\n",
    "#!gmx grompp ..."
   ]
  },
  {
   "cell_type": "markdown",
   "metadata": {},
   "source": [
    "<details>\n",
    "\n",
    "<summary>Answer</summary>\n",
    "\n",
    "!gmx grompp -f ../md.mdp -p top.top -c eq.gro -n index.ndx -o md.tpr"
   ]
  },
  {
   "cell_type": "markdown",
   "metadata": {
    "id": "un7PvfCsI2fJ"
   },
   "source": [
    "Since this step is quite computationally expensive, we'll take the trajectory file (md.xtc) from the worked directory (also, some additional files to avoid incompatibilities)."
   ]
  },
  {
   "cell_type": "code",
   "execution_count": null,
   "metadata": {
    "id": "2AqKWLxNI-6L"
   },
   "outputs": [],
   "source": [
    "!cp ../../worked/POPC/md.xtc .\n",
    "!cp ../../worked/POPC/index.ndx .\n",
    "!cp ../../worked/POPC/md.gro .\n",
    "!cp ../../worked/POPC/md.tpr ."
   ]
  },
  {
   "cell_type": "markdown",
   "metadata": {
    "id": "G_NyP8hmIfq1"
   },
   "source": [
    "### POPC-POPG 3:1 membrane\n",
    "Now, try to do it yourself with the other membrane!"
   ]
  },
  {
   "cell_type": "code",
   "execution_count": null,
   "metadata": {
    "id": "J_SdoNiZJRSB"
   },
   "outputs": [],
   "source": [
    "%cd ../POPC-POPG_31/"
   ]
  },
  {
   "cell_type": "markdown",
   "metadata": {
    "id": "sV0Syv2-IkcK"
   },
   "source": [
    "#### Energy minimization"
   ]
  },
  {
   "cell_type": "code",
   "execution_count": null,
   "metadata": {
    "id": "aogfmJ9jLMHg"
   },
   "outputs": [],
   "source": [
    "# Create the em.tpr file\n",
    "\n",
    "!gmx"
   ]
  },
  {
   "cell_type": "markdown",
   "metadata": {},
   "source": [
    "<details>\n",
    "\n",
    "<summary>Answer</summary>\n",
    "\n",
    "!gmx grompp -f ../em.mdp -c system_neutralized.gro -p top.top -n index.ndx -o em.tpr -maxwarn 2"
   ]
  },
  {
   "cell_type": "code",
   "execution_count": null,
   "metadata": {
    "id": "dJBXprgmL7-5"
   },
   "outputs": [],
   "source": [
    "# Run the minimization\n",
    "\n",
    "!gmx"
   ]
  },
  {
   "cell_type": "markdown",
   "metadata": {},
   "source": [
    "<details>\n",
    "\n",
    "<summary>Answer</summary>\n",
    "\n",
    "!gmx mdrun -v -deffnm em"
   ]
  },
  {
   "cell_type": "markdown",
   "metadata": {
    "id": "aclhVtEGIm-j"
   },
   "source": [
    "#### Equilibration"
   ]
  },
  {
   "cell_type": "code",
   "execution_count": null,
   "metadata": {
    "id": "uxO9YeC4LzT6"
   },
   "outputs": [],
   "source": [
    "#Create the eq.tpr file\n",
    "\n",
    "!gmx"
   ]
  },
  {
   "cell_type": "markdown",
   "metadata": {},
   "source": [
    "<details>\n",
    "\n",
    "<summary>Answer</summary>\n",
    "\n",
    "!gmx grompp -f ../eq.mdp -c em.gro -p top.top -n index.ndx -o eq.tpr -maxwarn 2"
   ]
  },
  {
   "cell_type": "code",
   "execution_count": null,
   "metadata": {
    "id": "Kw6hkpmCMPQs"
   },
   "outputs": [],
   "source": [
    "#Run the equilibration\n",
    "\n",
    "!gmx"
   ]
  },
  {
   "cell_type": "markdown",
   "metadata": {},
   "source": [
    "<details>\n",
    "\n",
    "<summary>Answer</summary>\n",
    "\n",
    "!gmx mdrun -v -deffnm eq"
   ]
  },
  {
   "cell_type": "markdown",
   "metadata": {
    "id": "W2QqVsc4Ipf9"
   },
   "source": [
    "#### Production"
   ]
  },
  {
   "cell_type": "code",
   "execution_count": null,
   "metadata": {
    "id": "UptntwG6Mmwp"
   },
   "outputs": [],
   "source": [
    "#Create the md.tpr file\n",
    "\n",
    "!gmx"
   ]
  },
  {
   "cell_type": "markdown",
   "metadata": {},
   "source": [
    "<details>\n",
    "\n",
    "<summary>Answer</summary>\n",
    "\n",
    "!gmx grompp -f ../md.mdp -p top.top -c eq.gro -n index.ndx -o md.tpr"
   ]
  },
  {
   "cell_type": "markdown",
   "metadata": {
    "id": "J0Ntgsb7M19C"
   },
   "source": [
    "Don't run the production, let's copy the files from the worked directory:"
   ]
  },
  {
   "cell_type": "code",
   "execution_count": null,
   "metadata": {
    "id": "zHf5hglnM1WM"
   },
   "outputs": [],
   "source": [
    "!cp ../../worked/POPC-POPG_31/md.xtc .\n",
    "!cp ../../worked/POPC-POPG_31/index.ndx .\n",
    "!cp ../../worked/POPC-POPG_31/md.gro .\n",
    "!cp ../../worked/POPC-POPG_31/md.tpr ."
   ]
  },
  {
   "cell_type": "markdown",
   "metadata": {
    "id": "GqKxdlqIY8qK"
   },
   "source": [
    "## Step 4 - Analysis\n",
    "\n",
    "We're going to make some adjustments to the trajectory and perform some analyses. After that, we will visualize the results."
   ]
  },
  {
   "cell_type": "markdown",
   "metadata": {
    "id": "rEc4U0IzNd1J"
   },
   "source": [
    "### POPC membrane\n",
    "\n",
    "Let's start this section analysing the POPC membrane trajectory:"
   ]
  },
  {
   "cell_type": "code",
   "execution_count": null,
   "metadata": {
    "id": "7MW0BOfBNtqJ"
   },
   "outputs": [],
   "source": [
    "%cd ../POPC/"
   ]
  },
  {
   "cell_type": "markdown",
   "metadata": {
    "id": "CaqhVnLuZSmd"
   },
   "source": [
    "#### Trajectory processing\n",
    "\n",
    "Let's remove the water and ions and make all molecules whole:"
   ]
  },
  {
   "cell_type": "code",
   "execution_count": null,
   "metadata": {
    "id": "ayZSugAVZH-C"
   },
   "outputs": [],
   "source": [
    "%%bash\n",
    "echo 'Bilayer_Protein' | gmx trjconv -f md.xtc -s md.tpr -pbc whole -o md_pbc.xtc -n index.ndx"
   ]
  },
  {
   "cell_type": "markdown",
   "metadata": {
    "id": "N8wyXxiWPWqd"
   },
   "source": [
    "Let's do the same, but using only the last frame of the simulation:"
   ]
  },
  {
   "cell_type": "code",
   "execution_count": null,
   "metadata": {
    "id": "qU_WfinePy7o"
   },
   "outputs": [],
   "source": [
    "%%bash\n",
    "echo 'Bilayer_Protein' | gmx trjconv -f md.gro -s md.tpr -pbc whole -o md_pbc.gro -n index.ndx"
   ]
  },
  {
   "cell_type": "markdown",
   "metadata": {
    "id": "pSN-PBBiae8u"
   },
   "source": [
    "Let's convert the production tpr file into another with fewer atoms compatibl with our centered trajectory (since we now ignore the solvent)."
   ]
  },
  {
   "cell_type": "code",
   "execution_count": null,
   "metadata": {
    "id": "hQITw13Wa8pZ"
   },
   "outputs": [],
   "source": [
    "%%bash\n",
    "echo 'Bilayer_Protein' | gmx convert-tpr -s md.tpr -n index.ndx -o md_pbc.tpr"
   ]
  },
  {
   "cell_type": "markdown",
   "metadata": {
    "id": "qAFpEnS7dTiA"
   },
   "source": [
    "#### Lipid contacts counting"
   ]
  },
  {
   "cell_type": "markdown",
   "metadata": {
    "id": "9JkSCe-BdmpY"
   },
   "source": [
    "To count contacts we first get a list of closest distances between any lipid and any AMP over time, using `gmx mindist`. Display first the help options with the `-h` flag."
   ]
  },
  {
   "cell_type": "code",
   "execution_count": null,
   "metadata": {
    "id": "9k4YrNWUdC9g"
   },
   "outputs": [],
   "source": [
    "!gmx mindist -h"
   ]
  },
  {
   "cell_type": "markdown",
   "metadata": {
    "id": "1pFgNjYid0OA"
   },
   "source": [
    "Try now to calculate the contacts using `gmx mindist`. You will need to choose the options `Protein` and `non-Protein` (since there are not water or ions). Moreover, use the flag `-group` (check in the info what it does). Name the output `contacts_amp-bilayer.xvg` using the flag `-o`."
   ]
  },
  {
   "cell_type": "code",
   "execution_count": null,
   "metadata": {
    "id": "X0ga9Gaxd7__"
   },
   "outputs": [],
   "source": [
    "#Try yourself!\n",
    "#Uncomment to run\n",
    "\n",
    "#%%bash\n",
    "#echo 'Protein' 'non-Protein' | gmx mindist ..."
   ]
  },
  {
   "cell_type": "markdown",
   "metadata": {},
   "source": [
    "<details>\n",
    "\n",
    "<summary>Answer</summary>\n",
    "\n",
    "%%bash\n",
    "\n",
    "echo 'Protein' 'non-Protein' | gmx mindist -s md_pbc.tpr -f md_pbc.xtc -on contacts_amp-bilayer.xvg -group"
   ]
  },
  {
   "cell_type": "markdown",
   "metadata": {
    "id": "BGj1qyHoE4kM"
   },
   "source": [
    "### POPC-POPG 3:1 membrane\n",
    "Now, let's do it with the other membrane."
   ]
  },
  {
   "cell_type": "code",
   "execution_count": null,
   "metadata": {
    "id": "0bje-XZsE9p0"
   },
   "outputs": [],
   "source": [
    "%cd ../POPC-POPG_31/"
   ]
  },
  {
   "cell_type": "markdown",
   "metadata": {
    "id": "vnR_X4aHG50M"
   },
   "source": [
    "##### Trajectory processing"
   ]
  },
  {
   "cell_type": "markdown",
   "metadata": {
    "id": "R4ecALFQFBpA"
   },
   "source": [
    "Let's remove the waters and ions and make molecules whole. We will also do the same for just one frame and create a new `.tpr` file compatible with the treated trajectory."
   ]
  },
  {
   "cell_type": "code",
   "execution_count": null,
   "metadata": {
    "id": "UFAuzS63GEaZ"
   },
   "outputs": [],
   "source": [
    "%%bash\n",
    "echo 'Bilayer_Protein' | gmx trjconv -f md.xtc -s md.tpr -pbc whole -o md_pbc.xtc -n index.ndx\n",
    "echo 'Bilayer_Protein' | gmx trjconv -f md.gro -s md.tpr -pbc whole -o md_pbc.gro -n index.ndx\n",
    "echo 'Bilayer_Protein' | gmx convert-tpr -s md.tpr -n index.ndx -o md_pbc.tpr"
   ]
  },
  {
   "cell_type": "markdown",
   "metadata": {
    "id": "NVaPb7kgG-xG"
   },
   "source": [
    "##### Lipid conctacts counting"
   ]
  },
  {
   "cell_type": "markdown",
   "metadata": {
    "id": "dy_EYg6BGROc"
   },
   "source": [
    "And now let's calculate the number of contacts. Do you think you'd be able to do it yourself? Give it a try!"
   ]
  },
  {
   "cell_type": "code",
   "execution_count": null,
   "metadata": {
    "id": "stJJnwM2GXTo"
   },
   "outputs": [],
   "source": [
    "#Try yourself!\n",
    "#Uncomment to run\n",
    "\n",
    "#%%bash\n",
    "#echo 'Protein' 'non-Protein' | gmx mindist ...  -o contacts_amp-bilayer.xvg"
   ]
  },
  {
   "cell_type": "markdown",
   "metadata": {},
   "source": [
    "<details>\n",
    "\n",
    "<summary>Answer</summary>\n",
    "%%bash\n",
    "\n",
    "echo 'Protein' 'non-Protein' | gmx mindist -s md_pbc.tpr -f md_pbc.xtc -on contacts_amp-bilayer.xvg -group"
   ]
  },
  {
   "cell_type": "markdown",
   "metadata": {
    "id": "JCMzTxKfNa_w"
   },
   "source": [
    "### Visualize the last frame"
   ]
  },
  {
   "cell_type": "markdown",
   "metadata": {
    "id": "Wlu5V0aKNe2P"
   },
   "source": [
    "Let's start by visualizing the last structure of the simulations. Go to the main directory."
   ]
  },
  {
   "cell_type": "code",
   "execution_count": null,
   "metadata": {
    "id": "0Xs5vozSPBTv"
   },
   "outputs": [],
   "source": [
    "%cd ../"
   ]
  },
  {
   "cell_type": "markdown",
   "metadata": {
    "id": "QY1CxdJoO7Zl"
   },
   "source": [
    "First, the one with POPC:"
   ]
  },
  {
   "cell_type": "code",
   "execution_count": null,
   "metadata": {
    "id": "ULUiUqMKN1Ua"
   },
   "outputs": [],
   "source": [
    "view_membrane_PC = nv.NGLWidget()\n",
    "view_membrane_PC.add_component(nv.FileStructure('POPC/md_pbc.gro'))\n",
    "view_membrane_PC.add_representation('tube', selection='protein', radius=1)\n",
    "view_membrane_PC.add_representation('surface', selection='POPC', color='grey')\n",
    "view_membrane_PC"
   ]
  },
  {
   "cell_type": "markdown",
   "metadata": {
    "id": "ouyqBQseN2L8"
   },
   "source": [
    "Compare it with the POPC-POPG 3:1 membrane."
   ]
  },
  {
   "cell_type": "code",
   "execution_count": null,
   "metadata": {
    "id": "YeQ_U0CaN7Fi"
   },
   "outputs": [],
   "source": [
    "view_membrane_PCPG = nv.NGLWidget()\n",
    "view_membrane_PCPG.add_component(nv.FileStructure('POPC-POPG_31/md_pbc.gro'))\n",
    "view_membrane_PCPG.add_representation('tube', selection='protein', radius=1)\n",
    "view_membrane_PCPG.add_representation('surface', selection='POPC', color='grey')\n",
    "view_membrane_PCPG.add_representation('surface', selection='POPG', color='green')\n",
    "view_membrane_PCPG"
   ]
  },
  {
   "cell_type": "markdown",
   "metadata": {
    "id": "9hfMiPX7OiWi"
   },
   "source": [
    "Apparently, Mag2 interacts more with the bacterial membrane. However, we are only observing one frame of the trajectory, which might not be representative. Let's visualize the results of the contacts during the entire trajectory to gain more information."
   ]
  },
  {
   "cell_type": "markdown",
   "metadata": {
    "id": "ANrY6Iv7HD8O"
   },
   "source": [
    "### Print the contacts\n",
    "\n",
    "After calculating the contacts between the AMPs and the lipids in former sections, we will plot them for visualization. In the main directory we have a Python script called `contacts_vs_time.py`, which will plot the contacts betwen AMPs and lipids per membrane. Run it."
   ]
  },
  {
   "cell_type": "code",
   "execution_count": null,
   "metadata": {
    "id": "ENEGogD-H3T_"
   },
   "outputs": [],
   "source": [
    "!python3 contacts_vs_time.py"
   ]
  },
  {
   "cell_type": "markdown",
   "metadata": {
    "id": "ZQLLRxcitGhC"
   },
   "source": [
    "This script will generate an output in PDF format (`contacts_amp-bilayer.pdf`) that you can download. To visualize it in this Colab, run the following cell:"
   ]
  },
  {
   "cell_type": "code",
   "execution_count": null,
   "metadata": {
    "id": "83vIY1SLss1d"
   },
   "outputs": [],
   "source": [
    "import numpy as np\n",
    "import matplotlib.pyplot as plt\n",
    "\n",
    "POPC = np.loadtxt('POPC/contacts_amp-bilayer.xvg', comments=('@', '#'))\n",
    "POPCPG = np.loadtxt('POPC-POPG_31/contacts_amp-bilayer.xvg', comments=('@', '#'))\n",
    "contacts_POPC = POPC[:,1:]\n",
    "contacts_POPCPG = POPCPG[:,1:]\n",
    "time = len(contacts_POPC)\n",
    "plt.plot(np.arange(1, len(contacts_POPC) + 1), contacts_POPC, label='POPC', color='red')\n",
    "plt.plot(np.arange(1, len(contacts_POPCPG) + 1), contacts_POPCPG, label='POPC-POPG 3:1', color='blue')\n",
    "plt.title('Contacs AMP - Bilayer')\n",
    "plt.legend()\n",
    "plt.xlabel('Time (ns)')\n",
    "plt.ylabel('# contacts')\n",
    "plt.show()"
   ]
  },
  {
   "cell_type": "markdown",
   "metadata": {
    "id": "vPi4b66wH483"
   },
   "source": [
    "As you can see, the number of contacts is higher in the bacterial membrane model. Do you think Mag2 has antimicrobial potential?"
   ]
  },
  {
   "cell_type": "markdown",
   "metadata": {
    "id": "AGI0S4fFJR0U"
   },
   "source": [
    "### Conclusion\n",
    "Congratulations! You've reached the end of this tutorial! Visit https://cgmartini.nl and continue exploring Martini and Coarse-Grained MD!"
   ]
  }
 ],
 "metadata": {
  "accelerator": "GPU",
  "colab": {
   "collapsed_sections": [
    "JmvnpR153NAG",
    "QJY8CWwKZK1C",
    "0iOQXHvrwH0P",
    "0R5KsQK6BHC8",
    "8Ub-wi3mzqK_",
    "5J59aSDdGEqz",
    "ZK5agXup7yvM",
    "gkFLIrDp7zCx",
    "KFxgZGRC8jlz",
    "RfNdXxpzBbsG",
    "Wu9WN3JTEF6O",
    "DVvVsEMsBfLt",
    "wMWU6fyfFBiG",
    "EBLKBhNNGGxR",
    "YNFIEuGWGUgY",
    "kz2dk2dPNnAB",
    "fMK0WSzZHl7m",
    "jpJB6_SBO6Xj",
    "W_R4dnw4T09B",
    "gIHoVBfdXhFa",
    "G_NyP8hmIfq1",
    "sV0Syv2-IkcK",
    "aclhVtEGIm-j",
    "W2QqVsc4Ipf9",
    "GqKxdlqIY8qK",
    "rEc4U0IzNd1J",
    "CaqhVnLuZSmd",
    "qAFpEnS7dTiA",
    "BGj1qyHoE4kM",
    "vnR_X4aHG50M",
    "NVaPb7kgG-xG",
    "JCMzTxKfNa_w",
    "ANrY6Iv7HD8O"
   ],
   "gpuType": "T4",
   "provenance": [
    {
     "file_id": "https://github.com/martincalvelo/MARTINI-CG-TUTORIALS/blob/main/1-Ceramide%E2%80%93VDAC1_binding_in_a_membrane/Tutorial1_Ceramide-VDAC1binding.ipynb",
     "timestamp": 1726248971544
    }
   ],
   "toc_visible": true
  },
  "kernelspec": {
   "display_name": "tutorials",
   "language": "python",
   "name": "tutorials"
  },
  "language_info": {
   "codemirror_mode": {
    "name": "ipython",
    "version": 3
   },
   "file_extension": ".py",
   "mimetype": "text/x-python",
   "name": "python",
   "nbconvert_exporter": "python",
   "pygments_lexer": "ipython3",
   "version": "3.13.0"
  }
 },
 "nbformat": 4,
 "nbformat_minor": 4
}
