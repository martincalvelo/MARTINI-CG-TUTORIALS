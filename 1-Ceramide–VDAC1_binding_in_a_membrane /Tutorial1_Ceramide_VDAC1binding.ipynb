{
  "nbformat": 4,
  "nbformat_minor": 0,
  "metadata": {
    "colab": {
      "provenance": [],
      "gpuType": "T4",
      "collapsed_sections": [
        "QJY8CWwKZK1C",
        "kz2dk2dPNnAB",
        "GqKxdlqIY8qK"
      ],
      "toc_visible": true,
      "include_colab_link": true
    },
    "kernelspec": {
      "name": "python3",
      "display_name": "Python 3"
    },
    "language_info": {
      "name": "python"
    },
    "accelerator": "GPU"
  },
  "cells": [
    {
      "cell_type": "markdown",
      "metadata": {
        "id": "view-in-github",
        "colab_type": "text"
      },
      "source": [
        "<a href=\"https://colab.research.google.com/github/martincalvelo/MARTINI-CG-TUTORIALS/blob/main/1-Ceramide%E2%80%93VDAC1_binding_in_a_membrane%20/Tutorial1_Ceramide_VDAC1binding.ipynb\" target=\"_parent\"><img src=\"https://colab.research.google.com/assets/colab-badge.svg\" alt=\"Open In Colab\"/></a>"
      ]
    },
    {
      "cell_type": "markdown",
      "source": [
        "# Coarse-grain MD tutorial\n",
        "## Ceramide — VDAC1 binding in a membrane\n",
        "\n",
        "\n",
        "---\n",
        "\n"
      ],
      "metadata": {
        "id": "DJeXV8L73ajD"
      }
    },
    {
      "cell_type": "markdown",
      "source": [
        "### *Tutorial notes*\n",
        "\n",
        "* In this tutorial you'll find two directories. Directory `worked` has all the intermediate steps and results, whereas directory `minimal` has only the essential files to get you going, and you'll have to do most of the work yourself. Feel free to follow the tutorial using either approach, or even a mix of the two.\n",
        "\n",
        "* This tutorial should be run in a T4 GPU Colab runtime (you can check and change this in the upper right 'Connect' menu). Click on \"Change runtime type\" and select Python 3 (default) and T4 GPU.\n",
        "\n",
        "* Much of the tutorial involves running shell commands. In Colab, this is achieved by prepending an exclamation mark to the command (`!some shell_command`). You can see this exemplified below in the installation. Note that if you need to change directories, the exclamation mark method won't work; you need to use a percent sign, and run the command in its own cell (`%cd target_dir`).\n",
        "\n",
        "* To run any of the following cells of code, you can type **Shift + Enter** to excute the code in a cell.\n"
      ],
      "metadata": {
        "id": "td1Gqim4xbJf"
      }
    },
    {
      "cell_type": "markdown",
      "source": [
        "## Step 0 - Downloading and installing of the tutorial software and materials.\n",
        "\n",
        "_The text output of these steps was minimized so as not to overcrowd the notebook. Feel free to take out the `-q` flags or add the `-v` flag to `tar` if you want full output or for debugging purposes._\n",
        "\n",
        "---"
      ],
      "metadata": {
        "id": "JmvnpR153NAG"
      }
    },
    {
      "cell_type": "markdown",
      "source": [
        "We install `gromacs` and `dssp` binaries, pre-built for the colab runtime:"
      ],
      "metadata": {
        "id": "QwEvzGVENBdH"
      }
    },
    {
      "cell_type": "code",
      "source": [
        "!wget https://www.itqb.unl.pt/labs/multiscale-modeling/downloads/gromacs-2023.3-gcolab_build.tar.gz -q -O - | tar --absolute-names -xzf -\n",
        "!wget https://www.itqb.unl.pt/labs/multiscale-modeling/downloads/dssp-3.1.4-gcolab_build.tar.gz -q -O - | tar --absolute-names -xzf -"
      ],
      "metadata": {
        "id": "vonL7S4i3MJx"
      },
      "execution_count": null,
      "outputs": []
    },
    {
      "cell_type": "markdown",
      "source": [
        "We install some Python packages, and import the ones we'll need:\n",
        "* The `vermouth` (provides the `martinize2` script) and `insane` packages from the Martini team\n",
        "* The `MDAnalysis` package\n",
        "* The `nglview` molecular viewer (requires enabling custom notebook widgets, which we also do below)"
      ],
      "metadata": {
        "id": "dwbh69d7NUs_"
      }
    },
    {
      "cell_type": "code",
      "execution_count": null,
      "metadata": {
        "id": "9ltq8Wr916D2"
      },
      "outputs": [],
      "source": [
        "!pip install -q vermouth mdanalysis insane"
      ]
    },
    {
      "cell_type": "code",
      "execution_count": null,
      "metadata": {
        "id": "gE5XGwECL5s_"
      },
      "outputs": [],
      "source": [
        "!pip install -q ipywidgets==7.7.2 nglview"
      ]
    },
    {
      "cell_type": "code",
      "source": [
        "# Needed for nglview to work in colab\n",
        "from google.colab import output\n",
        "output.enable_custom_widget_manager()"
      ],
      "metadata": {
        "id": "xySccxhMClye"
      },
      "execution_count": null,
      "outputs": []
    },
    {
      "cell_type": "code",
      "source": [
        "import nglview as nv\n",
        "import MDAnalysis as mda"
      ],
      "metadata": {
        "id": "Z1uPHfATMLdo"
      },
      "execution_count": null,
      "outputs": []
    },
    {
      "cell_type": "markdown",
      "source": [
        "Finally, we download and unpack the tutorial's material."
      ],
      "metadata": {
        "id": "Hq5wgt39N4YV"
      }
    },
    {
      "cell_type": "code",
      "source": [
        "!wget https://zenodo.org/records/13760505/files/1-Tutorial_CER-VDAC1.zip\n",
        "!unzip 1-Tutorial_CER-VDAC1.zip"
      ],
      "metadata": {
        "id": "n-sAbFInjqTs"
      },
      "execution_count": null,
      "outputs": []
    },
    {
      "cell_type": "markdown",
      "source": [
        "We start already in subdirectory `minimal`, but feel free to change to `worked`."
      ],
      "metadata": {
        "id": "cXI2_iO3Mv4b"
      }
    },
    {
      "cell_type": "code",
      "source": [
        "%cd minimal"
      ],
      "metadata": {
        "id": "zFwCjDYWysBB"
      },
      "execution_count": null,
      "outputs": []
    },
    {
      "cell_type": "markdown",
      "source": [
        "## Step 1 - Introduction\n",
        "\n",
        "The role of mitochondria in apoptosis is well established, and a number of protein–protein interactions in its outer membrane has been linked to apoptotic pathways. The VDAC (voltage-dependent anionic channels) family of proteins is central to this binding, having been implicated in the retention of apoptotic proteins in the outer mitochondrial membrane¹ and self-oligomerization² — an event also linked to apoptosis.\n",
        "\n",
        "In a recent study we have ascertained that ceramide binds VDAC proteins (via a binding site involving VDAC1's Glu73) and that such binding somehow triggers apoptosis³. An immediate hypothesis is that the presence of ceramide affects the binding profile of VDAC and promotes apoptosis-associated oligomerizations.\n",
        "Since that work was done using the (now outdated) Martini 2 model, we will recreate in this tutorial the same ceramide binding simulations, but using the state-of-the-art Martini 3 model⁴.\n",
        "\n",
        "1. Sci. Rep. 6, 32994; doi: 10.1038/srep32994 (2016)\n",
        "\n",
        "1. Mol. Cell. Biol. 30, 5698; doi: 10.1128/MCB.00165-10 (2010)\n",
        "\n",
        "1. Nat. Commun. 10, 1832; doi: 10.1038/s41467-019-09654-4 (2019)\n",
        "\n",
        "1. Nat. Methods 18, 382; doi: 10.1038/s41592-021-01098-3 (2021)"
      ],
      "metadata": {
        "id": "hp99lASgnPv6"
      }
    },
    {
      "cell_type": "markdown",
      "source": [
        "## Step 2 - System preparation\n"
      ],
      "metadata": {
        "id": "QJY8CWwKZK1C"
      }
    },
    {
      "cell_type": "markdown",
      "source": [
        "In your directories you'll find the 4c69.pdb file, containing the X-ray structure of the murine VDAC1 protein. As it is a beta-barrel, it should be clear how it orients in a membrane.\n",
        "\n",
        "Before coarse graining anything we visualize our starting protein structure using nglview. Other viewers, such as pymol or VMD are also great, if you run this workflow outside Colab."
      ],
      "metadata": {
        "id": "FMxpj5nYUFK7"
      }
    },
    {
      "cell_type": "code",
      "source": [
        "view = nv.NGLWidget()\n",
        "at = view.add_component(nv.FileStructure('4c69.pdb'))\n",
        "view"
      ],
      "metadata": {
        "id": "P5G3fqWXZMQG",
        "collapsed": true
      },
      "execution_count": null,
      "outputs": []
    },
    {
      "cell_type": "markdown",
      "source": [
        "### Coarse-graining with `martinize2`\n",
        "\n",
        "For CG MD simulation of a protein one needs the CG coordinates and the CG topology. Both can be obtained with the `martinize2` tool (despite its name, it works with Martini 3).\n",
        "\n",
        "---\n",
        "\n",
        "Run `martinize2` with the `-h` flag for help deciding how to run it. You'll need to:\n",
        "* specify `4c69.pdb` as the input structure;\n",
        "* specify an output CG structure (let's call it `VDAC1_cg.pdb`);\n",
        "* specify an output `.top` topology master file (let's call it `topol.top`);\n",
        "* specify the target forcefield. Martini 3 has code `martini3001`;\n",
        "* ask for an elastic network to be set, restraining secondary/tertiary structure;\n",
        "* ask for any disulfide bridges to be automatically detected;\n",
        "* specify where `martinize2` can find a DSSP executable, so that secondary structure per residue can be determined (in the current install it is in your path, under the name `mkdssp`);\n",
        "* ask for some non-protein residues that are present in the pdb structure to be ignored (since `4c69.pdb` is being used without any prior cleaning, several extra molecules are present, namely `HOH`, `ATP`, `MC3`, and `LDA`).\n",
        "\n",
        "Additionally, if needed, you can ask `martinize2` to ignore some occurring warnings: you can expect several about multiple conformations in `4c69.pdb`, and one about the version of DSSP being used."
      ],
      "metadata": {
        "id": "0iOQXHvrwH0P"
      }
    },
    {
      "cell_type": "code",
      "source": [
        "#Try yourself!\n",
        "#Uncomment to run\n",
        "\n",
        "#!martinize2 -f ..."
      ],
      "metadata": {
        "id": "GOuDx3X60bEy"
      },
      "execution_count": null,
      "outputs": []
    },
    {
      "cell_type": "code",
      "source": [
        "# @title Solution\n",
        "\n",
        "!martinize2 -f 4c69.pdb \\\n",
        " -x VDAC1_cg.pdb \\\n",
        " -o topol.top \\\n",
        " -ff martini3001 \\\n",
        " -elastic \\\n",
        " -scfix \\\n",
        " -cys auto \\\n",
        " -dssp mkdssp \\\n",
        " -ignore HOH ATP MC3 LDA \\\n",
        " -maxwarn 42"
      ],
      "metadata": {
        "id": "eEcyPkZmC_kJ",
        "collapsed": true,
        "cellView": "form"
      },
      "execution_count": null,
      "outputs": []
    },
    {
      "cell_type": "markdown",
      "source": [
        "Have a look at the produced files with and editor or a molecular structure visualizer. Observe the atomic structure and the CG beads overlaid (in white and yellow spheres)."
      ],
      "metadata": {
        "id": "NluM51lezlOG"
      }
    },
    {
      "cell_type": "code",
      "source": [
        "view.remove_component(at)"
      ],
      "metadata": {
        "id": "jR4dE49_va3J"
      },
      "execution_count": null,
      "outputs": []
    },
    {
      "cell_type": "code",
      "source": [
        "aa = nv.FileStructure('4c69.pdb')\n",
        "cg = nv.FileStructure('VDAC1_cg.pdb')\n",
        "\n",
        "view.add_component(aa, default=False)\n",
        "view.add_component(cg, default=False)\n",
        "\n",
        "view.clear_representations(component=0)\n",
        "view.clear_representations(component=1)\n",
        "\n",
        "view.add_licorice(selection='Protein', component=0)\n",
        "view.add_ball_and_stick(aspectRatio=7.5, opacity=0.45, component=1)\n",
        "\n",
        "view.center()\n",
        "view"
      ],
      "metadata": {
        "id": "UaU0GqA7CCr_"
      },
      "execution_count": null,
      "outputs": []
    },
    {
      "cell_type": "markdown",
      "source": [
        "### Embedding a protein in a membrane using `insane`\n",
        "\n",
        "The `insane` script creates CG membranes by placing lipids in a grid. It can also embed proteins as it constructs a membrane. Insane leverages the robustness of CG to start from artificial conditions and eventually equilibrate.\n",
        "\n",
        "---\n",
        "\n",
        "Run `insane` with the `-h` flag for help deciding how to run it. You'll need to:\n",
        "* specify `VDAC1_cg.pdb` as the input protein to embed;\n",
        "* specify an output `.top` topology master file (let's call it `membrane.top`);\n",
        "* specify an output structure (let's call it `membrane_prot.gro`);\n",
        "* specify lipid proportions (95:5 POPC:ceramide) with `-l`;\n",
        "* specify the dimensions of the simulation box (x=12, y=12 and z=10) with the `-x`, `-y` and `-z` flags;\n",
        "* ask for centering the protein in the vertical axis;\n",
        "* ask for orienting the protein tilt in the membrane;\n",
        "* add waters (`-sol W`) as solute.;\n",
        "* ask for an ionic strength of 0.15 M;\n",
        "* neturalize the system with additional counterions.\n"
      ],
      "metadata": {
        "id": "8Ub-wi3mzqK_"
      }
    },
    {
      "cell_type": "code",
      "source": [
        "#Try yourself!\n",
        "#Uncomment to run\n",
        "\n",
        "#!insane -f ..."
      ],
      "metadata": {
        "id": "GGJ4KuHL3C6k"
      },
      "execution_count": null,
      "outputs": []
    },
    {
      "cell_type": "code",
      "source": [
        "# @title Solution\n",
        "\n",
        "!insane -f VDAC1_cg.pdb \\\n",
        "-l POPC:95 -l DPCE:5 \\\n",
        "-x 12 -y 12 -z 10 \\\n",
        "-o membrane_prot.gro \\\n",
        "-p membrane.top \\\n",
        "-center \\\n",
        "-orient \\\n",
        "-sol W \\\n",
        "-salt 0.15 \\\n",
        "-charge auto"
      ],
      "metadata": {
        "id": "7zfsJYEoJ5Az",
        "cellView": "form"
      },
      "execution_count": null,
      "outputs": []
    },
    {
      "cell_type": "markdown",
      "source": [
        "You should obtain a protein–membrane structure. Open it with a molecular visualizator. Here, you can see the protein in the  membrane, with the POPC lipids in grey and the ceramide in green. Note that, for clarity, water and ions were not displayed.\n"
      ],
      "metadata": {
        "id": "R6K4Q6q1BmC0"
      }
    },
    {
      "cell_type": "code",
      "source": [
        "view_membrane_prot = nv.NGLWidget()\n",
        "view_membrane_prot.add_component(nv.FileStructure('membrane_prot.gro'))\n",
        "view_membrane_prot.add_representation('licorice', selection='protein')\n",
        "view_membrane_prot.add_representation('surface', selection='POPC', color='grey')\n",
        "view_membrane_prot.add_representation('surface', selection='DPCE', color='green')\n",
        "view_membrane_prot"
      ],
      "metadata": {
        "id": "tDDmt3AvByXc"
      },
      "execution_count": null,
      "outputs": []
    },
    {
      "cell_type": "markdown",
      "source": [
        "You may notice that despite the use of the -orient flag, insane\n",
        "was not able to completely align VDAC’s axis with the\n",
        "membrane normal. This is ok, again because the robustness of\n",
        "CG will allow the system to quickly evolve into the correct\n",
        "orientation."
      ],
      "metadata": {
        "id": "paH8sFCsE3u3"
      }
    },
    {
      "cell_type": "markdown",
      "source": [
        "### Cleaning up run-files\n",
        "\n",
        "At this point you’ll have the structure needed to run simulations, but the\n",
        "topologies/topology headers need some cleaning:\n",
        "\n"
      ],
      "metadata": {
        "id": "5J59aSDdGEqz"
      }
    },
    {
      "cell_type": "markdown",
      "source": [
        "1. Martinize2 gives not very informative default names to files and molecules. Rename `molecule_0.itp` to `VDAC1.itp`. Inside it, also change the molecule name from `molecule_0` to `VDAC1`:\n",
        "\n",
        "\n",
        "\n"
      ],
      "metadata": {
        "id": "VQBoIK2HGE6N"
      }
    },
    {
      "cell_type": "code",
      "source": [
        "!cp molecule_0.itp VDAC1.itp"
      ],
      "metadata": {
        "id": "Z2y2UZIWCQHA"
      },
      "execution_count": null,
      "outputs": []
    },
    {
      "cell_type": "code",
      "source": [
        "!sed -i 's/molecule_0/VDAC1/g' VDAC1.itp"
      ],
      "metadata": {
        "id": "nMhWv_nRGjlq"
      },
      "execution_count": null,
      "outputs": []
    },
    {
      "cell_type": "markdown",
      "source": [
        "2. In `topol.top`:\n",
        "* See how the file looks:\n",
        "\n",
        "\n"
      ],
      "metadata": {
        "id": "DgqzwQtFHjwq"
      }
    },
    {
      "cell_type": "code",
      "source": [
        "!cat topol.top"
      ],
      "metadata": {
        "id": "j5ZutAcwMvcp"
      },
      "execution_count": null,
      "outputs": []
    },
    {
      "cell_type": "markdown",
      "source": [
        "* Add the last 7 lines from membrane.top. These are the number of\n",
        "molecules of each type created by insane:"
      ],
      "metadata": {
        "id": "KlL0_E5AMvtT"
      }
    },
    {
      "cell_type": "code",
      "source": [
        "!tail -n 7 membrane.top >> topol.top"
      ],
      "metadata": {
        "id": "kTwn7tdkHiJv"
      },
      "execution_count": null,
      "outputs": []
    },
    {
      "cell_type": "markdown",
      "source": [
        "* Change the molecule reference from `molecule_0` to `VDAC1` in the\n",
        "molecules section:"
      ],
      "metadata": {
        "id": "1wjfEXUzIkqv"
      }
    },
    {
      "cell_type": "code",
      "source": [
        "!sed -i 's/molecule_0/VDAC1/g' topol.top"
      ],
      "metadata": {
        "id": "SJro6xxuHdWz"
      },
      "execution_count": null,
      "outputs": []
    },
    {
      "cell_type": "markdown",
      "source": [
        "* At the top, change the #include statement so it points to `martini_v3.0.0.itp` (this .itp must always be the first one to include):"
      ],
      "metadata": {
        "id": "ityp30luK3Bo"
      }
    },
    {
      "cell_type": "code",
      "source": [
        "!sed -i 's/include \"martini.itp\"/include \"martini_v3.0.0.itp\"/' topol.top"
      ],
      "metadata": {
        "id": "H_LmUzdNK18A"
      },
      "execution_count": null,
      "outputs": []
    },
    {
      "cell_type": "markdown",
      "source": [
        "* Add extra `.itp` files for the lipid, ceramide, water and ions:"
      ],
      "metadata": {
        "id": "Pwolm_ILMEHh"
      }
    },
    {
      "cell_type": "code",
      "source": [
        "!sed -i '4i\\#include \"martini_v3.0.0_phospholipids_v1.itp\"\\n#include \"DPCE.itp\"\\n#include \"martini_v3.0.0_solvents_v1.itp\"\\n#include \"martini_v3.0.0_ions_v1.itp\"\\n' topol.top"
      ],
      "metadata": {
        "id": "e7L1tflYLQ-i"
      },
      "execution_count": null,
      "outputs": []
    },
    {
      "cell_type": "markdown",
      "source": [
        "* Change the ion names from NA+/CL- to Na and CL, respectively (insane\n",
        "uses older Martini 2 nomenclature):"
      ],
      "metadata": {
        "id": "Ot4spitCMaTP"
      }
    },
    {
      "cell_type": "code",
      "source": [
        "!sed -i 's/NA+/Na /' topol.top\n",
        "!sed -i 's/CL-/CL /' topol.top"
      ],
      "metadata": {
        "id": "ScuvV6_SL-yw"
      },
      "execution_count": null,
      "outputs": []
    },
    {
      "cell_type": "markdown",
      "source": [
        "* See how `topol.top` looks now and compare it with before:"
      ],
      "metadata": {
        "id": "_LSd1z99NRR1"
      }
    },
    {
      "cell_type": "code",
      "source": [
        "!cat topol.top"
      ],
      "metadata": {
        "id": "pBLvK_DbNPGp"
      },
      "execution_count": null,
      "outputs": []
    },
    {
      "cell_type": "markdown",
      "source": [
        "## Step 3 - Simulation"
      ],
      "metadata": {
        "id": "kz2dk2dPNnAB"
      }
    },
    {
      "cell_type": "markdown",
      "source": [
        "You can now run the simulations. In CG it is enough to perform a short energy\n",
        "minimization and a single pressure/temperature equilibration step before production. In GROMACS, we need to use the command `gmx grompp` to create a processed binary file (with the extension `.tpr`) for running minimization/MD calculations. The instructions for the calculation are in `.mdp` files.\n"
      ],
      "metadata": {
        "id": "92ra_b0cO1ca"
      }
    },
    {
      "cell_type": "markdown",
      "source": [
        "### Energy minimization"
      ],
      "metadata": {
        "id": "jpJB6_SBO6Xj"
      }
    },
    {
      "cell_type": "markdown",
      "source": [
        "The `em.mdp` file has the instructions for the energy minimization. Create a `.tpr` file (let's call it `em.tpr`) for performing it. Use the flag `-h` if you need help. Use the flag `maxwarn 1` to ignore a warning that crops up because of unimportant mismatches in the way insane names atoms and how they’re defined in topologies."
      ],
      "metadata": {
        "id": "qXXZbew5PKpu"
      }
    },
    {
      "cell_type": "code",
      "source": [
        "#Try yourself!\n",
        "#Uncomment to run\n",
        "\n",
        "#!gmx grompp ..."
      ],
      "metadata": {
        "id": "hAq-2Z1_NgoM"
      },
      "execution_count": null,
      "outputs": []
    },
    {
      "cell_type": "code",
      "source": [
        "# @title Solution\n",
        "!gmx grompp -f em.mdp -p topol.top -c membrane_prot.gro -o em.tpr -maxwarn 1"
      ],
      "metadata": {
        "collapsed": true,
        "cellView": "form",
        "id": "OoYi1KyMRe8g"
      },
      "execution_count": null,
      "outputs": []
    },
    {
      "cell_type": "markdown",
      "source": [
        "Run now the minimization with:"
      ],
      "metadata": {
        "id": "T2U5qG9vSFqz"
      }
    },
    {
      "cell_type": "code",
      "source": [
        "!gmx mdrun -v -deffnm em"
      ],
      "metadata": {
        "id": "WzThnar7RvOM"
      },
      "execution_count": null,
      "outputs": []
    },
    {
      "cell_type": "markdown",
      "source": [
        "### Equilibration"
      ],
      "metadata": {
        "id": "W_R4dnw4T09B"
      }
    },
    {
      "cell_type": "markdown",
      "source": [
        "The equilibration step makes use of the `eq.mdp` runfile. Prior to using it with `grompp`, you’ll have to create an index file defining the beads that are part of the protein/membrane and those that are part of the solvent. This is needed because the temperature of the two phases will be thermostatted independently and we need to tell grompp which atoms get temperature-coupled together. To make the index run:"
      ],
      "metadata": {
        "id": "e6XFMsFUUU4M"
      }
    },
    {
      "cell_type": "code",
      "source": [
        "%%bash\n",
        "gmx make_ndx -f em.tpr <<EOF\n",
        "\"W\" | \"ION\"\n",
        "name 17 Solvent\n",
        "! 17\n",
        "name 18 Bilayer\n",
        "a BB\n",
        "q\n",
        "EOF"
      ],
      "metadata": {
        "id": "m5pAICCKT5AQ"
      },
      "execution_count": null,
      "outputs": []
    },
    {
      "cell_type": "markdown",
      "source": [
        "Armed with this index and the minimized structure, you can use `grompp` and the file `eq.mdp` for genereting the `.tpr` file to perform the equilibration. Use the flat `-n` to provide the `index.ndx` file."
      ],
      "metadata": {
        "id": "42eoCMK6WbD0"
      }
    },
    {
      "cell_type": "code",
      "source": [
        "#Try yourself!\n",
        "#Uncomment to run\n",
        "\n",
        "#!gmx grompp ..."
      ],
      "metadata": {
        "id": "4ammmNLWVdXC"
      },
      "execution_count": null,
      "outputs": []
    },
    {
      "cell_type": "code",
      "source": [
        "# @title Solution\n",
        "!gmx grompp -f eq.mdp -p topol.top -c em.gro -n index.ndx -o eq.tpr -maxwarn 1"
      ],
      "metadata": {
        "cellView": "form",
        "id": "Cy8bcr9SXE-S"
      },
      "execution_count": null,
      "outputs": []
    },
    {
      "cell_type": "markdown",
      "source": [
        "Run now the equilibration:"
      ],
      "metadata": {
        "id": "k00vTzHqXUq9"
      }
    },
    {
      "cell_type": "code",
      "source": [
        "!gmx mdrun -v -deffnm eq"
      ],
      "metadata": {
        "id": "OjYehVWCXXDq"
      },
      "execution_count": null,
      "outputs": []
    },
    {
      "cell_type": "markdown",
      "source": [
        "### Production"
      ],
      "metadata": {
        "id": "gIHoVBfdXhFa"
      }
    },
    {
      "cell_type": "markdown",
      "source": [
        "Finally, we can creage the `.tpr` and run the production using the `md.mdp` file."
      ],
      "metadata": {
        "id": "scKHFtF9X5BL"
      }
    },
    {
      "cell_type": "code",
      "source": [
        "#Try yourself!\n",
        "#Uncomment to run\n",
        "\n",
        "#!gmx grompp ..."
      ],
      "metadata": {
        "id": "7dGdi7ADXy9v"
      },
      "execution_count": null,
      "outputs": []
    },
    {
      "cell_type": "code",
      "source": [
        "# @title Solution\n",
        "!gmx grompp -f md.mdp -p topol.top -c eq.gro -n index.ndx -o md.tpr"
      ],
      "metadata": {
        "id": "_IYA16AiYf1c",
        "cellView": "form"
      },
      "execution_count": null,
      "outputs": []
    },
    {
      "cell_type": "markdown",
      "source": [
        "Since this step is quite computationally expensive, we'll take the trajectory file (`md.xtc`) from the `worked` directory (also, some additional files to avoid incompatibilities)."
      ],
      "metadata": {
        "id": "KuqnptzDY0MP"
      }
    },
    {
      "cell_type": "code",
      "source": [
        "!cp ../worked/md.xtc .\n",
        "!cp ../worked/index.ndx .\n",
        "!cp ../worked/eq.gro .\n",
        "!cp ../worked/md.tpr ."
      ],
      "metadata": {
        "id": "jcE7XlepY4ae"
      },
      "execution_count": null,
      "outputs": []
    },
    {
      "cell_type": "markdown",
      "source": [
        "## Step 4 - Analysis"
      ],
      "metadata": {
        "id": "GqKxdlqIY8qK"
      }
    },
    {
      "cell_type": "markdown",
      "source": [
        "### Trajectory fitting"
      ],
      "metadata": {
        "id": "CaqhVnLuZSmd"
      }
    },
    {
      "cell_type": "markdown",
      "source": [
        "It is useful — mostly for visualization — to have all the protein in all simulation frames centered and fit, so that all observed movement is relative to it, rather than to the box. At the same time, we will output only the lipids/protein to make the resulting trajectories lighter. This can be done with the following series of commands:"
      ],
      "metadata": {
        "id": "wGS57wiYZWqu"
      }
    },
    {
      "cell_type": "code",
      "source": [
        "%%bash\n",
        "echo 'Protein' 'Bilayer' | gmx trjconv -f md.xtc -s md.tpr -center -pbc mol -o md_pbc.xtc -n index.ndx"
      ],
      "metadata": {
        "id": "ayZSugAVZH-C"
      },
      "execution_count": null,
      "outputs": []
    },
    {
      "cell_type": "markdown",
      "source": [
        "With the previous command we are centering on the `Protein` and only inlcuding the group `Bilayer` (Lipids+Protein, without water and ions) in the output. The flag `-pbc mol` will make molecules whole."
      ],
      "metadata": {
        "id": "31l9xqCQZ86e"
      }
    },
    {
      "cell_type": "markdown",
      "source": [
        "Let's do the same as above but only on the starting structure of the production, producing one centered structure (useful later for use with VMD)."
      ],
      "metadata": {
        "id": "TWV4MpCOZvSn"
      }
    },
    {
      "cell_type": "code",
      "source": [
        "%%bash\n",
        "echo 'Protein' 'Bilayer' | gmx trjconv -f eq.gro -s md.tpr -center -pbc mol -o md_pbc.gro -n index.ndx"
      ],
      "metadata": {
        "id": "wNPtFTqHZ7el"
      },
      "execution_count": null,
      "outputs": []
    },
    {
      "cell_type": "markdown",
      "source": [
        "Let's convert the production tpr file into another with fewer atoms compatibl with our centered trajectory (since we now ignore the solvent)."
      ],
      "metadata": {
        "id": "pSN-PBBiae8u"
      }
    },
    {
      "cell_type": "code",
      "source": [
        "%%bash\n",
        "echo 'Bilayer' | gmx convert-tpr -s md.tpr -n index.ndx -o fit.tpr"
      ],
      "metadata": {
        "id": "hQITw13Wa8pZ"
      },
      "execution_count": null,
      "outputs": []
    },
    {
      "cell_type": "markdown",
      "source": [
        "Now, fits each frame’s protein to the conformation in `fit.tpr`, by aligning backbone beads."
      ],
      "metadata": {
        "id": "Exq-IRjLbERw"
      }
    },
    {
      "cell_type": "code",
      "source": [
        "%%bash\n",
        "echo 'BB' 'Bilayer' | gmx trjconv -f md_pbc.xtc -s fit.tpr -fit rotxy+transxy -o md_fit.xtc -n index.ndx"
      ],
      "metadata": {
        "id": "UEsA7MbncreQ"
      },
      "execution_count": null,
      "outputs": []
    },
    {
      "cell_type": "markdown",
      "source": [
        "Download `md_pbc.gro` and `md_fit.xtc` and take a look at the resulting trajectory with VMD — possibly showing only VDAC1 and the ceramides — and see how trajectory fitting highlights protein–ceramide interactions (see section 4.3 for visualization tips and advanced analyses using VMD)"
      ],
      "metadata": {
        "id": "X8EcS7accvnL"
      }
    },
    {
      "cell_type": "markdown",
      "source": [
        "### Ceramide contact counting"
      ],
      "metadata": {
        "id": "qAFpEnS7dTiA"
      }
    },
    {
      "cell_type": "markdown",
      "source": [
        "To count contacts we first get a list of closest distances between any ceramide and each residue of the protein, over time, using `gmx mindist`. Display first the help options with the `-h` flag."
      ],
      "metadata": {
        "id": "9JkSCe-BdmpY"
      }
    },
    {
      "cell_type": "code",
      "source": [
        "!gmx mindist -h"
      ],
      "metadata": {
        "id": "9k4YrNWUdC9g"
      },
      "execution_count": null,
      "outputs": []
    },
    {
      "cell_type": "markdown",
      "source": [
        "Try now to calculate the contacts using gmx mindist. You will need to select the groups `Protein` and `DPCE`."
      ],
      "metadata": {
        "id": "1pFgNjYid0OA"
      }
    },
    {
      "cell_type": "code",
      "source": [
        "#Try yourself!\n",
        "#Uncomment to run\n",
        "\n",
        "#%%bash\n",
        "#echo 'Protein' 'DPCE' | gmx mindist ..."
      ],
      "metadata": {
        "id": "X0ga9Gaxd7__"
      },
      "execution_count": null,
      "outputs": []
    },
    {
      "cell_type": "code",
      "source": [
        "# @title Solution\n",
        "\n",
        "%%bash\n",
        "\n",
        "echo 'Protein' 'DPCE' | gmx mindist -respertime -s fit.tpr -f md_fit.xtc -or res_dists.xvg"
      ],
      "metadata": {
        "id": "1hyTeOETd_vy",
        "cellView": "form"
      },
      "execution_count": null,
      "outputs": []
    },
    {
      "cell_type": "markdown",
      "source": [
        "The included script `contact_fraction.py` converts these distances into contacts, and represents them as the fraction of the total trajectory time during which a given residue was in contact with a ceramide. It assumes a 6 Å cutoff for considering contacts. Run it like this:"
      ],
      "metadata": {
        "id": "f1GMtrhie4Tf"
      }
    },
    {
      "cell_type": "code",
      "source": [
        "!python contact_fraction.py"
      ],
      "metadata": {
        "id": "ZjZqvMuOeRk_"
      },
      "execution_count": null,
      "outputs": []
    },
    {
      "cell_type": "markdown",
      "source": [
        "The script’s output already shows some regions of preferred contact, but it is not so clear among all the contacts whether there is a binding site (ceramides do seem to also bind on the region around Glu73, which is encouraging). In the next section we perform a more visual contact analysis."
      ],
      "metadata": {
        "id": "ZbyPLChrfQ-4"
      }
    },
    {
      "cell_type": "markdown",
      "source": [
        "### Visualization"
      ],
      "metadata": {
        "id": "vdLfcJNpfXss"
      }
    },
    {
      "cell_type": "markdown",
      "source": [
        "VMD is a great tool to visualize CG trajectories. Do the analysis describe in 4.3 and 4.4 sections of the Tutorial.pdf file and extract your conclusions!"
      ],
      "metadata": {
        "id": "RcGl7h_Bfedx"
      }
    }
  ]
}